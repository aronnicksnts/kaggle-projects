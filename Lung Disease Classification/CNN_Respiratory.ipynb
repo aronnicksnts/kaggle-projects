{
 "cells": [
  {
   "cell_type": "code",
   "execution_count": 95,
   "id": "64216a26",
   "metadata": {},
   "outputs": [],
   "source": [
    "import os\n",
    "import pandas as pd\n",
    "import numpy as np\n",
    "import matplotlib.pyplot as plt\n",
    "import librosa\n",
    "from sklearn.model_selection import train_test_split\n",
    "import seaborn as sn\n",
    "from tensorflow.keras.models import Sequential, Model\n",
    "from tensorflow.keras import regularizers, optimizers\n",
    "from tensorflow.keras.layers import Dense, Conv1D, Flatten, Activation, MaxPooling1D, Dropout\n",
    "from tensorflow.keras.utils import plot_model,to_categorical\n",
    "from IPython.display import clear_output\n",
    "from PIL import ImageFont\n",
    "from sklearn.metrics import classification_report\n",
    "from sklearn.metrics import confusion_matrix\n",
    "\n",
    "import warnings\n",
    "warnings.simplefilter(action='ignore', category=FutureWarning)\n",
    "warnings.filterwarnings('ignore')"
   ]
  },
  {
   "cell_type": "code",
   "execution_count": 9,
   "id": "8d4c512c",
   "metadata": {},
   "outputs": [
    {
     "data": {
      "image/png": "[encoded data removed]",
      "text/plain": [
       "<Figure size 432x288 with 1 Axes>"
      ]
     },
     "metadata": {
      "needs_background": "light"
     },
     "output_type": "display_data"
    },
    {
     "name": "stdout",
     "output_type": "stream",
     "text": [
      "COPD              64\n",
      "Healthy           26\n",
      "URTI              14\n",
      "Bronchiectasis     7\n",
      "Pneumonia          6\n",
      "Bronchiolitis      6\n",
      "LRTI               2\n",
      "Asthma             1\n",
      "Name: diagnosis, dtype: int64\n"
     ]
    }
   ],
   "source": [
    "#Data Sampling\n",
    "patient_diagnosis = pd.read_csv(os.getcwd()+\"\\\\Respiratory_Sound_Database\\\\Respiratory_Sound_Database\\\\\"+r'patient_diagnosis.csv', header=None)\n",
    "patient_diagnosis.columns = ['patient_num','diagnosis']\n",
    "\n",
    "plt.bar(patient_diagnosis['diagnosis'].value_counts().index, patient_diagnosis['diagnosis'].value_counts())\n",
    "plt.title('Respiratory Sound Database Distribution', fontsize=15)\n",
    "plt.xlabel('Diagnosis', fontsize=14)\n",
    "plt.xticks(rotation=45)\n",
    "plt.show()\n",
    "print(patient_diagnosis['diagnosis'].value_counts())"
   ]
  },
  {
   "cell_type": "code",
   "execution_count": 10,
   "id": "d0ff8068",
   "metadata": {},
   "outputs": [],
   "source": [
    "#Get WAV_File and associate diagnosis and patient number\n",
    "patient_audio_diagnosis = []\n",
    "diagnosis_num = {\"COPD\": 0, \"Healthy\": 1, \"URTI\": 2, \"Bronchiectasis\": 3, \"Pneumonia\": 4, \"Bronchiolitis\": 5,\n",
    "                \"LRTI\": 6, \"Asthma\": 7}\n",
    "avoid_diag = [diagnosis_num['Asthma'], diagnosis_num['LRTI']]\n",
    "for file in os.listdir('Respiratory_Sound_Database\\\\Respiratory_Sound_Database\\\\audio_and_txt_files'):\n",
    "    if file.endswith('.wav'):\n",
    "        patient_num = file.split('_')[0]\n",
    "        audio_path = os.getcwd()+'\\\\Respiratory_Sound_Database\\\\Respiratory_Sound_Database\\\\audio_and_txt_files\\\\'+file\n",
    "        patient_diag = diagnosis_num[patient_diagnosis.loc[patient_diagnosis['patient_num']==int(patient_num), \n",
    "                                                           'diagnosis'].iloc[0]]\n",
    "        #Don't include avoid_diagnosis\n",
    "        if patient_diag in avoid_diag:\n",
    "            continue\n",
    "        patient_audio_diagnosis.append({'patient_num':patient_num, 'audio_path': audio_path, 'patient_diag': patient_diag})"
   ]
  },
  {
   "cell_type": "code",
   "execution_count": 11,
   "id": "b08b81a7",
   "metadata": {},
   "outputs": [],
   "source": [
    "#Feature Extraction for sound files\n",
    "def extract_features(file_path):\n",
    "    sound, sample_rate = librosa.load(file_path)\n",
    "    stft = np.abs(librosa.stft(sound))  \n",
    "    mfccs = np.mean(librosa.feature.mfcc(y=sound, sr=sample_rate, n_mfcc=40),axis=1)\n",
    "    chroma = np.mean(librosa.feature.chroma_stft(S=stft, sr=sample_rate),axis=1)\n",
    "    mel = np.mean(librosa.feature.melspectrogram(sound, sr=sample_rate),axis=1)\n",
    "    contrast = np.mean(librosa.feature.spectral_contrast(S=stft, sr=sample_rate),axis=1)\n",
    "    tonnetz = np.mean(librosa.feature.tonnetz(y=librosa.effects.harmonic(sound), sr=sample_rate),axis=1)\n",
    "    return np.concatenate((mfccs, chroma, mel, contrast, tonnetz))"
   ]
  },
  {
   "cell_type": "code",
   "execution_count": 12,
   "id": "e4d37cc7",
   "metadata": {
    "scrolled": false
   },
   "outputs": [
    {
     "name": "stdout",
     "output_type": "stream",
     "text": [
      "917 of 917\n"
     ]
    }
   ],
   "source": [
    "# Creation of images and their labels\n",
    "images = []\n",
    "labels = []\n",
    "currTotal = 0\n",
    "totalLabels = len(patient_audio_diagnosis)\n",
    "for file in patient_audio_diagnosis:\n",
    "    currTotal +=1\n",
    "    images.append(extract_features(file['audio_path']))\n",
    "    labels.append(file['patient_diag'])\n",
    "    clear_output(wait=True)\n",
    "    print(f\"{currTotal} of {totalLabels}\")\n",
    "    \n"
   ]
  },
  {
   "cell_type": "code",
   "execution_count": 97,
   "id": "166d6415",
   "metadata": {},
   "outputs": [],
   "source": [
    "#Split dataset from training to test\n",
    "labels = np.array(labels)\n",
    "images = np.array(images)\n",
    "x_train, x_test, y_train, y_test = train_test_split(images, labels, test_size=0.2, random_state=5)\n",
    "\n",
    "#Encode Labels\n",
    "y_train = to_categorical(y_train)\n",
    "y_test = to_categorical(y_test)\n",
    "\n",
    "\n",
    "y_train = np.reshape(y_train, (y_train.shape[0], 6))\n",
    "x_train = np.reshape(x_train, (x_train.shape[0], x_train.shape[1], 1))\n",
    "y_test = np.reshape(y_test, (y_test.shape[0], 6))\n",
    "x_test = np.reshape(x_test, (x_test.shape[0], x_train.shape[1],  1))"
   ]
  },
  {
   "cell_type": "code",
   "execution_count": 98,
   "id": "d0f1a9e8",
   "metadata": {},
   "outputs": [
    {
     "name": "stdout",
     "output_type": "stream",
     "text": [
      "Epoch 1/70\n",
      "6/6 [==============================] - 1s 116ms/step - loss: 5.4088 - accuracy: 0.7299 - val_loss: 1.1656 - val_accuracy: 0.6793\n",
      "Epoch 2/70\n",
      "6/6 [==============================] - 1s 97ms/step - loss: 1.6802 - accuracy: 0.6726 - val_loss: 0.7919 - val_accuracy: 0.8859\n",
      "Epoch 3/70\n",
      "6/6 [==============================] - 1s 100ms/step - loss: 1.0684 - accuracy: 0.8595 - val_loss: 0.5545 - val_accuracy: 0.8859\n",
      "Epoch 4/70\n",
      "6/6 [==============================] - 1s 98ms/step - loss: 0.6818 - accuracy: 0.8445 - val_loss: 0.4390 - val_accuracy: 0.8859\n",
      "Epoch 5/70\n",
      "6/6 [==============================] - 1s 99ms/step - loss: 0.5763 - accuracy: 0.8486 - val_loss: 0.4019 - val_accuracy: 0.8859\n",
      "Epoch 6/70\n",
      "6/6 [==============================] - 1s 103ms/step - loss: 0.5470 - accuracy: 0.8581 - val_loss: 0.3911 - val_accuracy: 0.8859\n",
      "Epoch 7/70\n",
      "6/6 [==============================] - 1s 100ms/step - loss: 0.4890 - accuracy: 0.8595 - val_loss: 0.3699 - val_accuracy: 0.8859\n",
      "Epoch 8/70\n",
      "6/6 [==============================] - 1s 101ms/step - loss: 0.4579 - accuracy: 0.8540 - val_loss: 0.3558 - val_accuracy: 0.8859\n",
      "Epoch 9/70\n",
      "6/6 [==============================] - 1s 98ms/step - loss: 0.4580 - accuracy: 0.8595 - val_loss: 0.3361 - val_accuracy: 0.8859\n",
      "Epoch 10/70\n",
      "6/6 [==============================] - 1s 97ms/step - loss: 0.4282 - accuracy: 0.8554 - val_loss: 0.3455 - val_accuracy: 0.8859\n",
      "Epoch 11/70\n",
      "6/6 [==============================] - 1s 97ms/step - loss: 0.3846 - accuracy: 0.8636 - val_loss: 0.3177 - val_accuracy: 0.8859\n",
      "Epoch 12/70\n",
      "6/6 [==============================] - 1s 98ms/step - loss: 0.3626 - accuracy: 0.8608 - val_loss: 0.3196 - val_accuracy: 0.8859\n",
      "Epoch 13/70\n",
      "6/6 [==============================] - 1s 100ms/step - loss: 0.3381 - accuracy: 0.8622 - val_loss: 0.2949 - val_accuracy: 0.8913\n",
      "Epoch 14/70\n",
      "6/6 [==============================] - 1s 99ms/step - loss: 0.3180 - accuracy: 0.8772 - val_loss: 0.2904 - val_accuracy: 0.8967\n",
      "Epoch 15/70\n",
      "6/6 [==============================] - 1s 95ms/step - loss: 0.3150 - accuracy: 0.8854 - val_loss: 0.2999 - val_accuracy: 0.8913\n",
      "Epoch 16/70\n",
      "6/6 [==============================] - 1s 97ms/step - loss: 0.2899 - accuracy: 0.8854 - val_loss: 0.2597 - val_accuracy: 0.9022\n",
      "Epoch 17/70\n",
      "6/6 [==============================] - 1s 96ms/step - loss: 0.2672 - accuracy: 0.8936 - val_loss: 0.2630 - val_accuracy: 0.9076\n",
      "Epoch 18/70\n",
      "6/6 [==============================] - 1s 96ms/step - loss: 0.2506 - accuracy: 0.8922 - val_loss: 0.2422 - val_accuracy: 0.9076\n",
      "Epoch 19/70\n",
      "6/6 [==============================] - 1s 96ms/step - loss: 0.2416 - accuracy: 0.9018 - val_loss: 0.2413 - val_accuracy: 0.9239\n",
      "Epoch 20/70\n",
      "6/6 [==============================] - 1s 97ms/step - loss: 0.2253 - accuracy: 0.9059 - val_loss: 0.2306 - val_accuracy: 0.9130\n",
      "Epoch 21/70\n",
      "6/6 [==============================] - 1s 97ms/step - loss: 0.2291 - accuracy: 0.9181 - val_loss: 0.3063 - val_accuracy: 0.8913\n",
      "Epoch 22/70\n",
      "6/6 [==============================] - 1s 97ms/step - loss: 0.2528 - accuracy: 0.9072 - val_loss: 0.2223 - val_accuracy: 0.9185\n",
      "Epoch 23/70\n",
      "6/6 [==============================] - 1s 100ms/step - loss: 0.2167 - accuracy: 0.9100 - val_loss: 0.2351 - val_accuracy: 0.9130\n",
      "Epoch 24/70\n",
      "6/6 [==============================] - 1s 95ms/step - loss: 0.2002 - accuracy: 0.9236 - val_loss: 0.2196 - val_accuracy: 0.9130\n",
      "Epoch 25/70\n",
      "6/6 [==============================] - 1s 96ms/step - loss: 0.1905 - accuracy: 0.9318 - val_loss: 0.2038 - val_accuracy: 0.9185\n",
      "Epoch 26/70\n",
      "6/6 [==============================] - 1s 100ms/step - loss: 0.1748 - accuracy: 0.9277 - val_loss: 0.2113 - val_accuracy: 0.9185\n",
      "Epoch 27/70\n",
      "6/6 [==============================] - 1s 95ms/step - loss: 0.1921 - accuracy: 0.9277 - val_loss: 0.1843 - val_accuracy: 0.9293\n",
      "Epoch 28/70\n",
      "6/6 [==============================] - 1s 96ms/step - loss: 0.1746 - accuracy: 0.9304 - val_loss: 0.2071 - val_accuracy: 0.9239\n",
      "Epoch 29/70\n",
      "6/6 [==============================] - 1s 96ms/step - loss: 0.1573 - accuracy: 0.9332 - val_loss: 0.1813 - val_accuracy: 0.9402\n",
      "Epoch 30/70\n",
      "6/6 [==============================] - 1s 96ms/step - loss: 0.1648 - accuracy: 0.9427 - val_loss: 0.1813 - val_accuracy: 0.9293\n",
      "Epoch 31/70\n",
      "6/6 [==============================] - 1s 96ms/step - loss: 0.1557 - accuracy: 0.9304 - val_loss: 0.1982 - val_accuracy: 0.9293\n",
      "Epoch 32/70\n",
      "6/6 [==============================] - 1s 98ms/step - loss: 0.1526 - accuracy: 0.9427 - val_loss: 0.1960 - val_accuracy: 0.9185\n",
      "Epoch 33/70\n",
      "6/6 [==============================] - 1s 97ms/step - loss: 0.1433 - accuracy: 0.9468 - val_loss: 0.1703 - val_accuracy: 0.9402\n",
      "Epoch 34/70\n",
      "6/6 [==============================] - 1s 97ms/step - loss: 0.1281 - accuracy: 0.9523 - val_loss: 0.1887 - val_accuracy: 0.9348\n",
      "Epoch 35/70\n",
      "6/6 [==============================] - 1s 95ms/step - loss: 0.1352 - accuracy: 0.9482 - val_loss: 0.1693 - val_accuracy: 0.9348\n",
      "Epoch 36/70\n",
      "6/6 [==============================] - 1s 96ms/step - loss: 0.1205 - accuracy: 0.9577 - val_loss: 0.1693 - val_accuracy: 0.9293\n",
      "Epoch 37/70\n",
      "6/6 [==============================] - 1s 95ms/step - loss: 0.1127 - accuracy: 0.9577 - val_loss: 0.1611 - val_accuracy: 0.9402\n",
      "Epoch 38/70\n",
      "6/6 [==============================] - 1s 95ms/step - loss: 0.1128 - accuracy: 0.9604 - val_loss: 0.1530 - val_accuracy: 0.9402\n",
      "Epoch 39/70\n",
      "6/6 [==============================] - 1s 100ms/step - loss: 0.1404 - accuracy: 0.9386 - val_loss: 0.1565 - val_accuracy: 0.9348\n",
      "Epoch 40/70\n",
      "6/6 [==============================] - 1s 95ms/step - loss: 0.1176 - accuracy: 0.9523 - val_loss: 0.1818 - val_accuracy: 0.9293\n",
      "Epoch 41/70\n",
      "6/6 [==============================] - 1s 96ms/step - loss: 0.1153 - accuracy: 0.9618 - val_loss: 0.1647 - val_accuracy: 0.9402\n",
      "Epoch 42/70\n",
      "6/6 [==============================] - 1s 95ms/step - loss: 0.1045 - accuracy: 0.9632 - val_loss: 0.1903 - val_accuracy: 0.9348\n",
      "Epoch 43/70\n",
      "6/6 [==============================] - 1s 96ms/step - loss: 0.0884 - accuracy: 0.9714 - val_loss: 0.1482 - val_accuracy: 0.9402\n",
      "Epoch 44/70\n",
      "6/6 [==============================] - 1s 96ms/step - loss: 0.1016 - accuracy: 0.9632 - val_loss: 0.1528 - val_accuracy: 0.9402\n",
      "Epoch 45/70\n",
      "6/6 [==============================] - 1s 96ms/step - loss: 0.0916 - accuracy: 0.9632 - val_loss: 0.2194 - val_accuracy: 0.9293\n",
      "Epoch 46/70\n",
      "6/6 [==============================] - 1s 96ms/step - loss: 0.0949 - accuracy: 0.9700 - val_loss: 0.1534 - val_accuracy: 0.9402\n",
      "Epoch 47/70\n",
      "6/6 [==============================] - 1s 96ms/step - loss: 0.0927 - accuracy: 0.9604 - val_loss: 0.1749 - val_accuracy: 0.9402\n",
      "Epoch 48/70\n",
      "6/6 [==============================] - 1s 96ms/step - loss: 0.0808 - accuracy: 0.9727 - val_loss: 0.1557 - val_accuracy: 0.9565\n",
      "Epoch 49/70\n",
      "6/6 [==============================] - 1s 96ms/step - loss: 0.0778 - accuracy: 0.9741 - val_loss: 0.1776 - val_accuracy: 0.9293\n",
      "Epoch 50/70\n",
      "6/6 [==============================] - 1s 100ms/step - loss: 0.0899 - accuracy: 0.9645 - val_loss: 0.1684 - val_accuracy: 0.9402\n",
      "Epoch 51/70\n",
      "6/6 [==============================] - 1s 100ms/step - loss: 0.0870 - accuracy: 0.9632 - val_loss: 0.1548 - val_accuracy: 0.9293\n",
      "Epoch 52/70\n",
      "6/6 [==============================] - 1s 100ms/step - loss: 0.0762 - accuracy: 0.9741 - val_loss: 0.2022 - val_accuracy: 0.9239\n",
      "Epoch 53/70\n",
      "6/6 [==============================] - 1s 100ms/step - loss: 0.0697 - accuracy: 0.9727 - val_loss: 0.1576 - val_accuracy: 0.9293\n",
      "Epoch 54/70\n",
      "6/6 [==============================] - 1s 97ms/step - loss: 0.0609 - accuracy: 0.9795 - val_loss: 0.1645 - val_accuracy: 0.9402\n",
      "Epoch 55/70\n",
      "6/6 [==============================] - 1s 96ms/step - loss: 0.0598 - accuracy: 0.9809 - val_loss: 0.1806 - val_accuracy: 0.9348\n",
      "Epoch 56/70\n",
      "6/6 [==============================] - 1s 96ms/step - loss: 0.0540 - accuracy: 0.9823 - val_loss: 0.1497 - val_accuracy: 0.9674\n",
      "Epoch 57/70\n",
      "6/6 [==============================] - 1s 97ms/step - loss: 0.0574 - accuracy: 0.9809 - val_loss: 0.1464 - val_accuracy: 0.9565\n",
      "Epoch 58/70\n",
      "6/6 [==============================] - 1s 98ms/step - loss: 0.0469 - accuracy: 0.9891 - val_loss: 0.1775 - val_accuracy: 0.9511\n",
      "Epoch 59/70\n"
     ]
    },
    {
     "name": "stdout",
     "output_type": "stream",
     "text": [
      "6/6 [==============================] - 1s 98ms/step - loss: 0.0559 - accuracy: 0.9836 - val_loss: 0.1683 - val_accuracy: 0.9457\n",
      "Epoch 60/70\n",
      "6/6 [==============================] - 1s 101ms/step - loss: 0.0664 - accuracy: 0.9754 - val_loss: 0.1525 - val_accuracy: 0.9511\n",
      "Epoch 61/70\n",
      "6/6 [==============================] - 1s 101ms/step - loss: 0.0486 - accuracy: 0.9836 - val_loss: 0.1866 - val_accuracy: 0.9348\n",
      "Epoch 62/70\n",
      "6/6 [==============================] - 1s 95ms/step - loss: 0.0452 - accuracy: 0.9836 - val_loss: 0.1644 - val_accuracy: 0.9457\n",
      "Epoch 63/70\n",
      "6/6 [==============================] - 1s 101ms/step - loss: 0.0360 - accuracy: 0.9918 - val_loss: 0.1620 - val_accuracy: 0.9565\n",
      "Epoch 64/70\n",
      "6/6 [==============================] - 1s 100ms/step - loss: 0.0344 - accuracy: 0.9891 - val_loss: 0.1741 - val_accuracy: 0.9457\n",
      "Epoch 65/70\n",
      "6/6 [==============================] - 1s 96ms/step - loss: 0.0319 - accuracy: 0.9864 - val_loss: 0.2038 - val_accuracy: 0.9457\n",
      "Epoch 66/70\n",
      "6/6 [==============================] - 1s 94ms/step - loss: 0.0298 - accuracy: 0.9905 - val_loss: 0.1825 - val_accuracy: 0.9511\n",
      "Epoch 67/70\n",
      "6/6 [==============================] - 1s 95ms/step - loss: 0.0289 - accuracy: 0.9945 - val_loss: 0.1900 - val_accuracy: 0.9511\n",
      "Epoch 68/70\n",
      "6/6 [==============================] - 1s 95ms/step - loss: 0.0237 - accuracy: 0.9945 - val_loss: 0.2011 - val_accuracy: 0.9402\n",
      "Epoch 69/70\n",
      "6/6 [==============================] - 1s 95ms/step - loss: 0.0207 - accuracy: 0.9945 - val_loss: 0.1800 - val_accuracy: 0.9565\n",
      "Epoch 70/70\n",
      "6/6 [==============================] - 1s 96ms/step - loss: 0.0175 - accuracy: 0.9973 - val_loss: 0.1829 - val_accuracy: 0.9511\n"
     ]
    }
   ],
   "source": [
    "#Model Creation\n",
    "model = Sequential()\n",
    "model.add(Conv1D(64, kernel_size=5, activation='relu', input_shape=(193, 1)))\n",
    "\n",
    "model.add(Conv1D(128, kernel_size=5, activation='relu'))\n",
    "model.add(MaxPooling1D(2)) \n",
    "\n",
    "model.add(Conv1D(256, kernel_size=5, activation='relu'))\n",
    "\n",
    "model.add(Dropout(0.3))\n",
    "model.add(Flatten())\n",
    "\n",
    "model.add(Dense(512, activation='relu'))   \n",
    "model.add(Dense(6, activation='softmax'))\n",
    "\n",
    "model.compile(loss='categorical_crossentropy', optimizer='adam', metrics=['accuracy'])\n",
    "history = model.fit(x_train, y_train, validation_data=(x_test, y_test), epochs=70, batch_size=128, verbose=1)"
   ]
  },
  {
   "cell_type": "code",
   "execution_count": 99,
   "id": "75b215d1",
   "metadata": {},
   "outputs": [
    {
     "name": "stdout",
     "output_type": "stream",
     "text": [
      "[0.18289490044116974, 0.9510869383811951]\n"
     ]
    }
   ],
   "source": [
    "score = model.evaluate(x_test, y_test, batch_size=64, verbose=0)\n",
    "print(score)"
   ]
  },
  {
   "cell_type": "code",
   "execution_count": 101,
   "id": "8c124ba9",
   "metadata": {},
   "outputs": [
    {
     "name": "stdout",
     "output_type": "stream",
     "text": [
      "6/6 [==============================] - 0s 8ms/step\n",
      "                precision    recall  f1-score   support\n",
      "\n",
      "          COPD       0.97      0.99      0.98       163\n",
      "       Healthy       0.86      0.86      0.86         7\n",
      "          URTI       0.33      0.33      0.33         3\n",
      "Bronchiectasis       1.00      1.00      1.00         2\n",
      "     Pneumonia       0.75      0.43      0.55         7\n",
      " Bronchiolitis       1.00      0.50      0.67         2\n",
      "\n",
      "      accuracy                           0.95       184\n",
      "     macro avg       0.82      0.69      0.73       184\n",
      "  weighted avg       0.95      0.95      0.95       184\n",
      "\n"
     ]
    },
    {
     "data": {
      "text/plain": [
       "<AxesSubplot:xlabel='Predicted', ylabel='Actual'>"
      ]
     },
     "execution_count": 101,
     "metadata": {},
     "output_type": "execute_result"
    },
    {
     "data": {
      "image/png": "[encoded data removed]",
      "text/plain": [
       "<Figure size 720x504 with 2 Axes>"
      ]
     },
     "metadata": {
      "needs_background": "light"
     },
     "output_type": "display_data"
    }
   ],
   "source": [
    "matrix_index = [\"COPD\", \"Healthy\", \"URTI\", \"Bronchiectasis\", \"Pneumonia\", \"Bronchiolitis\"]\n",
    "\n",
    "preds = model.predict(x_test)\n",
    "classpreds = np.argmax(preds, axis=1) # predicted classes \n",
    "y_testclass = np.argmax(y_test, axis=1) # true classes\n",
    "\n",
    "cm = confusion_matrix(y_testclass, classpreds)\n",
    "print(classification_report(y_testclass, classpreds, target_names=matrix_index))\n",
    "\n",
    "# Get percentage value for each element of the matrix\n",
    "cm_sum = np.sum(cm, axis=1, keepdims=True)\n",
    "cm_perc = cm / cm_sum.astype(float) * 100\n",
    "annot = np.empty_like(cm).astype(str)\n",
    "nrows, ncols = cm.shape\n",
    "for i in range(nrows):\n",
    "    for j in range(ncols):\n",
    "        c = cm[i, j]\n",
    "        p = cm_perc[i, j]\n",
    "        if i == j:\n",
    "            s = cm_sum[i]\n",
    "            annot[i, j] = '%.1f%%\\n%d/%d' % (p, c, s)\n",
    "        elif c == 0:\n",
    "            annot[i, j] = ''\n",
    "        else:\n",
    "            annot[i, j] = '%.1f%%\\n%d' % (p, c)\n",
    "\n",
    "\n",
    "# Display confusion matrix \n",
    "df_cm = pd.DataFrame(cm, index = matrix_index, columns = matrix_index)\n",
    "df_cm.index.name = 'Actual'\n",
    "df_cm.columns.name = 'Predicted'\n",
    "fig, ax = plt.subplots(figsize=(10,7))\n",
    "sn.heatmap(df_cm, annot=annot, fmt='')"
   ]
  },
  {
   "cell_type": "code",
   "execution_count": null,
   "id": "16ed914a",
   "metadata": {},
   "outputs": [],
   "source": []
  }
 ],
 "metadata": {
  "kernelspec": {
   "display_name": "Python 3 (ipykernel)",
   "language": "python",
   "name": "python3"
  },
  "language_info": {
   "codemirror_mode": {
    "name": "ipython",
    "version": 3
   },
   "file_extension": ".py",
   "mimetype": "text/x-python",
   "name": "python",
   "nbconvert_exporter": "python",
   "pygments_lexer": "ipython3",
   "version": "3.9.7"
  }
 },
 "nbformat": 4,
 "nbformat_minor": 5
}
