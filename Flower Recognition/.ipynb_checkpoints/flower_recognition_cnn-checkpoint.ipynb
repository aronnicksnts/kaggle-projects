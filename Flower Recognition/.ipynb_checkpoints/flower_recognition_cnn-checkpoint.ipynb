{
 "cells": [
  {
   "cell_type": "code",
   "execution_count": 1,
   "id": "556bf790",
   "metadata": {},
   "outputs": [],
   "source": [
    "import os\n",
    "import glob\n",
    "import cv2\n",
    "import numpy as np\n",
    "import pandas as pd\n",
    "from PIL import Image\n",
    "from pathlib import Path\n",
    "from keras.models import Sequential, Model,load_model\n",
    "from keras.applications.vgg16 import VGG16, preprocess_input\n",
    "from keras.preprocessing.image import ImageDataGenerator\n",
    "from keras.utils import load_img, img_to_array\n",
    "from keras.layers import Conv2D, MaxPooling2D, Dense, Dropout, Input, Flatten, Activation\n",
    "from keras.optimizers import Adam, SGD, RMSprop\n",
    "from keras.callbacks import Callback, EarlyStopping\n",
    "from sklearn.metrics import confusion_matrix\n",
    "from keras import backend as K\n",
    "import tensorflow as tf\n",
    "import matplotlib.pyplot as plt\n",
    "from sklearn.model_selection import train_test_split"
   ]
  },
  {
   "cell_type": "code",
   "execution_count": 15,
   "id": "937c6aa8",
   "metadata": {},
   "outputs": [
    {
     "name": "stdout",
     "output_type": "stream",
     "text": [
      "daisy Processed\n",
      "dandelion Processed\n",
      "rose Processed\n",
      "sunflower Processed\n",
      "tulip Processed\n"
     ]
    }
   ],
   "source": [
    "#Process each image and put images and their label into df\n",
    "data_dir = Path(\"flowers/\")\n",
    "train_data = []\n",
    "train_label = []\n",
    "df = pd.DataFrame(columns = ['Image', 'Label'])\n",
    "\n",
    "i = 0\n",
    "\n",
    "flower_type = {\"daisy\": 0, \"dandelion\": 1, \"rose\": 2, \"sunflower\": 3, \"tulip\": 4}\n",
    "for x in os.walk(data_dir):\n",
    "    if x[0] == \"flowers\":\n",
    "        continue\n",
    "    flower_label_name = x[0].split('\\\\')[-1]\n",
    "    for flowers in x[1:]:\n",
    "        for flower in flowers:\n",
    "            imagePath = os.getcwd()+f\"\\\\{data_dir}\"+f\"\\\\{flower_label_name}\"+f\"\\\\{flower}\"\n",
    "            image = cv2.imread(imagePath)\n",
    "            image = cv2.resize(image, (224,224))\n",
    "            if image.shape[2] == 1:\n",
    "                img = np.dstack([image,image,image])\n",
    "            image = cv2.cvtColor(image, cv2.COLOR_BGR2RGB)\n",
    "            image = image.astype(np.float32)/255\n",
    "            train_data.append(image)\n",
    "            \n",
    "            flower_label = flower_type[flower_label_name]\n",
    "            train_label.append(flower_label)\n",
    "            df = df.append({\"Image\": flower, \"Label\": flower_label_name}, ignore_index=True)\n",
    "            \n",
    "\n",
    "\n",
    "    print(f\"{flower_label_name} Processed\")\n",
    "\n",
    "df=df.sample(frac=1).reset_index(drop=True)"
   ]
  },
  {
   "cell_type": "code",
   "execution_count": 9,
   "id": "354f293b",
   "metadata": {},
   "outputs": [
    {
     "data": {
      "image/png": "[encoded data removed]",
      "text/plain": [
       "<Figure size 432x288 with 1 Axes>"
      ]
     },
     "metadata": {
      "needs_background": "light"
     },
     "output_type": "display_data"
    }
   ],
   "source": [
    "#Show number of images per label\n",
    "plt.bar(df['Label'].value_counts().index, df['Label'].value_counts().values)\n",
    "plt.show()"
   ]
  },
  {
   "cell_type": "code",
   "execution_count": 16,
   "id": "01c54e34",
   "metadata": {},
   "outputs": [],
   "source": [
    "#Split data into training set, test set,\n",
    "(x_train, x_test, y_train, y_test) = train_test_split(train_data, train_label, test_size=0.25, stratify=train_label)\n",
    "# (x_train, x_val, y_train, y_val) = train_test_split(x_train, y_train, test_size=0.1, stratify=y_train)"
   ]
  },
  {
   "cell_type": "code",
   "execution_count": 46,
   "id": "2e777b49",
   "metadata": {
    "scrolled": true
   },
   "outputs": [],
   "source": [
    "model = Sequential()\n",
    "model.add(Conv2D(32,(3,3), input_shape=(224,224,3)))\n",
    "model.add(Activation('relu'))\n",
    "model.add(MaxPooling2D(pool_size=(2,2)))\n",
    "\n",
    "model.add(Conv2D(32,(3,3)))\n",
    "model.add(Activation('relu'))\n",
    "model.add(MaxPooling2D(pool_size=(2,2)))\n",
    "\n",
    "model.add(Conv2D(64,(3,3)))\n",
    "model.add(Activation('relu'))\n",
    "model.add(MaxPooling2D(pool_size=(2,2)))\n",
    "\n",
    "model.add(Flatten())\n",
    "model.add(Dense(64))\n",
    "model.add(Activation('relu'))\n",
    "model.add(Dense(5))\n",
    "model.add(Activation('softmax'))\n",
    "\n",
    "model.compile(loss='binary_crossentropy',\n",
    "             optimizer='rmsprop',\n",
    "             metrics=['accuracy'])"
   ]
  },
  {
   "cell_type": "code",
   "execution_count": 52,
   "id": "7c2917a6",
   "metadata": {},
   "outputs": [
    {
     "ename": "ValueError",
     "evalue": "cannot reshape array of size 3237 into shape (5)",
     "output_type": "error",
     "traceback": [
      "\u001b[1;31m---------------------------------------------------------------------------\u001b[0m",
      "\u001b[1;31mValueError\u001b[0m                                Traceback (most recent call last)",
      "\u001b[1;32m~\\AppData\\Local\\Temp/ipykernel_15460/4034076937.py\u001b[0m in \u001b[0;36m<module>\u001b[1;34m\u001b[0m\n\u001b[1;32m----> 1\u001b[1;33m \u001b[0mY_train\u001b[0m \u001b[1;33m=\u001b[0m \u001b[0mnp\u001b[0m\u001b[1;33m.\u001b[0m\u001b[0mreshape\u001b[0m\u001b[1;33m(\u001b[0m\u001b[0my_train\u001b[0m\u001b[1;33m,\u001b[0m \u001b[1;33m(\u001b[0m\u001b[1;33m-\u001b[0m\u001b[1;36m1\u001b[0m\u001b[1;33m,\u001b[0m \u001b[1;36m5\u001b[0m\u001b[1;33m)\u001b[0m\u001b[1;33m)\u001b[0m\u001b[1;33m\u001b[0m\u001b[1;33m\u001b[0m\u001b[0m\n\u001b[0m\u001b[0;32m      2\u001b[0m \u001b[0mX_train\u001b[0m \u001b[1;33m=\u001b[0m \u001b[0mnp\u001b[0m\u001b[1;33m.\u001b[0m\u001b[0marray\u001b[0m\u001b[1;33m(\u001b[0m\u001b[0mx_train\u001b[0m\u001b[1;33m)\u001b[0m\u001b[1;33m\u001b[0m\u001b[1;33m\u001b[0m\u001b[0m\n\u001b[0;32m      3\u001b[0m \u001b[0mprint\u001b[0m\u001b[1;33m(\u001b[0m\u001b[0mY_train\u001b[0m\u001b[1;33m.\u001b[0m\u001b[0mshape\u001b[0m\u001b[1;33m)\u001b[0m\u001b[1;33m\u001b[0m\u001b[1;33m\u001b[0m\u001b[0m\n\u001b[0;32m      4\u001b[0m \u001b[0mprint\u001b[0m\u001b[1;33m(\u001b[0m\u001b[0mX_train\u001b[0m\u001b[1;33m.\u001b[0m\u001b[0mshape\u001b[0m\u001b[1;33m)\u001b[0m\u001b[1;33m\u001b[0m\u001b[1;33m\u001b[0m\u001b[0m\n",
      "\u001b[1;32m<__array_function__ internals>\u001b[0m in \u001b[0;36mreshape\u001b[1;34m(*args, **kwargs)\u001b[0m\n",
      "\u001b[1;32mD:\\Anaconda\\lib\\site-packages\\numpy\\core\\fromnumeric.py\u001b[0m in \u001b[0;36mreshape\u001b[1;34m(a, newshape, order)\u001b[0m\n\u001b[0;32m    297\u001b[0m            [5, 6]])\n\u001b[0;32m    298\u001b[0m     \"\"\"\n\u001b[1;32m--> 299\u001b[1;33m     \u001b[1;32mreturn\u001b[0m \u001b[0m_wrapfunc\u001b[0m\u001b[1;33m(\u001b[0m\u001b[0ma\u001b[0m\u001b[1;33m,\u001b[0m \u001b[1;34m'reshape'\u001b[0m\u001b[1;33m,\u001b[0m \u001b[0mnewshape\u001b[0m\u001b[1;33m,\u001b[0m \u001b[0morder\u001b[0m\u001b[1;33m=\u001b[0m\u001b[0morder\u001b[0m\u001b[1;33m)\u001b[0m\u001b[1;33m\u001b[0m\u001b[1;33m\u001b[0m\u001b[0m\n\u001b[0m\u001b[0;32m    300\u001b[0m \u001b[1;33m\u001b[0m\u001b[0m\n\u001b[0;32m    301\u001b[0m \u001b[1;33m\u001b[0m\u001b[0m\n",
      "\u001b[1;32mD:\\Anaconda\\lib\\site-packages\\numpy\\core\\fromnumeric.py\u001b[0m in \u001b[0;36m_wrapfunc\u001b[1;34m(obj, method, *args, **kwds)\u001b[0m\n\u001b[0;32m     53\u001b[0m     \u001b[0mbound\u001b[0m \u001b[1;33m=\u001b[0m \u001b[0mgetattr\u001b[0m\u001b[1;33m(\u001b[0m\u001b[0mobj\u001b[0m\u001b[1;33m,\u001b[0m \u001b[0mmethod\u001b[0m\u001b[1;33m,\u001b[0m \u001b[1;32mNone\u001b[0m\u001b[1;33m)\u001b[0m\u001b[1;33m\u001b[0m\u001b[1;33m\u001b[0m\u001b[0m\n\u001b[0;32m     54\u001b[0m     \u001b[1;32mif\u001b[0m \u001b[0mbound\u001b[0m \u001b[1;32mis\u001b[0m \u001b[1;32mNone\u001b[0m\u001b[1;33m:\u001b[0m\u001b[1;33m\u001b[0m\u001b[1;33m\u001b[0m\u001b[0m\n\u001b[1;32m---> 55\u001b[1;33m         \u001b[1;32mreturn\u001b[0m \u001b[0m_wrapit\u001b[0m\u001b[1;33m(\u001b[0m\u001b[0mobj\u001b[0m\u001b[1;33m,\u001b[0m \u001b[0mmethod\u001b[0m\u001b[1;33m,\u001b[0m \u001b[1;33m*\u001b[0m\u001b[0margs\u001b[0m\u001b[1;33m,\u001b[0m \u001b[1;33m**\u001b[0m\u001b[0mkwds\u001b[0m\u001b[1;33m)\u001b[0m\u001b[1;33m\u001b[0m\u001b[1;33m\u001b[0m\u001b[0m\n\u001b[0m\u001b[0;32m     56\u001b[0m \u001b[1;33m\u001b[0m\u001b[0m\n\u001b[0;32m     57\u001b[0m     \u001b[1;32mtry\u001b[0m\u001b[1;33m:\u001b[0m\u001b[1;33m\u001b[0m\u001b[1;33m\u001b[0m\u001b[0m\n",
      "\u001b[1;32mD:\\Anaconda\\lib\\site-packages\\numpy\\core\\fromnumeric.py\u001b[0m in \u001b[0;36m_wrapit\u001b[1;34m(obj, method, *args, **kwds)\u001b[0m\n\u001b[0;32m     42\u001b[0m     \u001b[1;32mexcept\u001b[0m \u001b[0mAttributeError\u001b[0m\u001b[1;33m:\u001b[0m\u001b[1;33m\u001b[0m\u001b[1;33m\u001b[0m\u001b[0m\n\u001b[0;32m     43\u001b[0m         \u001b[0mwrap\u001b[0m \u001b[1;33m=\u001b[0m \u001b[1;32mNone\u001b[0m\u001b[1;33m\u001b[0m\u001b[1;33m\u001b[0m\u001b[0m\n\u001b[1;32m---> 44\u001b[1;33m     \u001b[0mresult\u001b[0m \u001b[1;33m=\u001b[0m \u001b[0mgetattr\u001b[0m\u001b[1;33m(\u001b[0m\u001b[0masarray\u001b[0m\u001b[1;33m(\u001b[0m\u001b[0mobj\u001b[0m\u001b[1;33m)\u001b[0m\u001b[1;33m,\u001b[0m \u001b[0mmethod\u001b[0m\u001b[1;33m)\u001b[0m\u001b[1;33m(\u001b[0m\u001b[1;33m*\u001b[0m\u001b[0margs\u001b[0m\u001b[1;33m,\u001b[0m \u001b[1;33m**\u001b[0m\u001b[0mkwds\u001b[0m\u001b[1;33m)\u001b[0m\u001b[1;33m\u001b[0m\u001b[1;33m\u001b[0m\u001b[0m\n\u001b[0m\u001b[0;32m     45\u001b[0m     \u001b[1;32mif\u001b[0m \u001b[0mwrap\u001b[0m\u001b[1;33m:\u001b[0m\u001b[1;33m\u001b[0m\u001b[1;33m\u001b[0m\u001b[0m\n\u001b[0;32m     46\u001b[0m         \u001b[1;32mif\u001b[0m \u001b[1;32mnot\u001b[0m \u001b[0misinstance\u001b[0m\u001b[1;33m(\u001b[0m\u001b[0mresult\u001b[0m\u001b[1;33m,\u001b[0m \u001b[0mmu\u001b[0m\u001b[1;33m.\u001b[0m\u001b[0mndarray\u001b[0m\u001b[1;33m)\u001b[0m\u001b[1;33m:\u001b[0m\u001b[1;33m\u001b[0m\u001b[1;33m\u001b[0m\u001b[0m\n",
      "\u001b[1;31mValueError\u001b[0m: cannot reshape array of size 3237 into shape (5)"
     ]
    }
   ],
   "source": [
    "Y_train = np.zeros()\n",
    "X_train = np.array(x_train)\n",
    "print(Y_train.shape)\n",
    "print(X_train.shape)"
   ]
  },
  {
   "cell_type": "code",
   "execution_count": null,
   "id": "dab0495d",
   "metadata": {},
   "outputs": [],
   "source": [
    "history = model.fit(x=X_train,y=Y_train, epochs=5, batch_size=106)"
   ]
  },
  {
   "cell_type": "code",
   "execution_count": 53,
   "id": "4e3c45e6",
   "metadata": {},
   "outputs": [
    {
     "name": "stdout",
     "output_type": "stream",
     "text": [
      "[3, 0, 4, 4, 1, 0, 1, 1, 4, 2, 4, 1, 2, 0, 1, 3, 0, 2, 3, 0, 0, 4, 0, 3, 1, 3, 0, 0, 1, 0, 3, 1, 3, 0, 4, 4, 4, 1, 1, 3, 4, 3, 1, 4, 2, 2, 1, 2, 1, 4, 4, 3, 1, 0, 0, 1, 2, 4, 0, 1, 0, 1, 2, 4, 1, 3, 3, 2, 3, 4, 1, 2, 1, 0, 4, 3, 2, 2, 4, 4, 0, 1, 0, 4, 0, 3, 3, 4, 4, 1, 3, 2, 0, 0, 0, 0, 0, 3, 1, 4, 4, 2, 1, 2, 2, 4, 0, 1, 4, 0, 1, 4, 3, 1, 3, 0, 4, 3, 2, 4, 4, 1, 1, 2, 1, 4, 2, 1, 2, 0, 2, 0, 0, 2, 1, 4, 0, 1, 0, 1, 4, 4, 2, 2, 3, 1, 2, 0, 0, 3, 1, 2, 3, 3, 0, 2, 4, 2, 2, 3, 4, 4, 3, 2, 3, 2, 2, 1, 4, 0, 2, 0, 2, 4, 0, 4, 2, 4, 2, 4, 4, 3, 1, 4, 1, 3, 4, 0, 4, 2, 1, 4, 4, 4, 4, 2, 1, 1, 4, 3, 0, 1, 4, 4, 1, 0, 3, 0, 1, 2, 4, 2, 3, 3, 2, 1, 1, 4, 0, 2, 0, 1, 3, 2, 3, 1, 2, 4, 1, 0, 0, 0, 3, 1, 4, 1, 4, 4, 1, 4, 0, 4, 4, 3, 3, 2, 3, 1, 3, 4, 1, 2, 0, 0, 0, 0, 4, 4, 0, 2, 1, 0, 1, 0, 1, 0, 2, 4, 4, 4, 2, 2, 2, 4, 3, 3, 2, 1, 0, 0, 0, 0, 4, 2, 3, 3, 0, 1, 4, 4, 1, 1, 4, 3, 1, 2, 4, 1, 0, 0, 2, 1, 4, 4, 4, 0, 1, 1, 2, 2, 1, 0, 3, 1, 4, 0, 1, 2, 0, 1, 4, 4, 0, 3, 3, 4, 4, 3, 0, 2, 2, 2, 1, 0, 4, 3, 0, 0, 3, 0, 3, 2, 1, 0, 4, 2, 1, 1, 3, 1, 1, 0, 3, 1, 4, 3, 1, 2, 4, 3, 2, 0, 0, 3, 3, 0, 4, 1, 2, 2, 3, 4, 4, 4, 1, 4, 4, 0, 2, 0, 3, 3, 1, 2, 3, 4, 4, 4, 0, 0, 2, 1, 4, 4, 3, 1, 0, 2, 2, 4, 1, 2, 3, 4, 0, 3, 4, 0, 3, 3, 1, 1, 3, 2, 0, 4, 4, 4, 2, 2, 4, 2, 2, 3, 4, 2, 1, 1, 2, 1, 4, 3, 1, 1, 3, 3, 0, 0, 1, 2, 2, 0, 1, 2, 1, 3, 2, 4, 1, 4, 2, 4, 2, 2, 1, 0, 1, 2, 4, 1, 0, 2, 3, 1, 2, 3, 4, 4, 1, 1, 1, 1, 0, 3, 2, 2, 3, 0, 3, 2, 1, 3, 4, 3, 2, 0, 1, 4, 4, 1, 2, 1, 4, 4, 1, 4, 1, 2, 2, 2, 0, 4, 3, 3, 1, 2, 1, 2, 4, 4, 1, 3, 1, 4, 0, 4, 2, 0, 2, 3, 2, 1, 0, 0, 4, 2, 1, 1, 1, 2, 0, 2, 4, 2, 1, 1, 0, 3, 1, 0, 1, 0, 1, 0, 4, 1, 2, 0, 4, 1, 3, 1, 1, 0, 2, 1, 0, 3, 4, 1, 3, 0, 3, 2, 1, 0, 3, 1, 0, 3, 1, 0, 1, 3, 2, 0, 2, 2, 0, 1, 3, 4, 2, 4, 0, 2, 1, 2, 0, 1, 4, 2, 1, 4, 0, 3, 3, 1, 3, 1, 4, 2, 1, 1, 0, 2, 0, 2, 4, 4, 3, 0, 0, 1, 4, 2, 1, 3, 1, 4, 2, 4, 2, 3, 0, 2, 4, 1, 0, 3, 1, 2, 1, 1, 3, 1, 4, 2, 2, 4, 2, 0, 0, 0, 4, 4, 0, 4, 2, 0, 4, 1, 0, 2, 4, 0, 2, 3, 0, 0, 4, 4, 1, 3, 1, 0, 0, 2, 4, 3, 1, 0, 3, 1, 2, 3, 3, 1, 2, 1, 4, 2, 2, 4, 1, 4, 2, 2, 4, 0, 3, 0, 2, 4, 1, 2, 3, 1, 2, 1, 1, 3, 2, 0, 1, 0, 4, 1, 2, 2, 1, 2, 3, 4, 4, 2, 1, 2, 3, 2, 4, 3, 1, 3, 0, 3, 0, 0, 4, 1, 4, 4, 1, 1, 4, 0, 2, 0, 2, 0, 2, 4, 4, 3, 4, 2, 0, 0, 1, 1, 4, 2, 2, 0, 1, 0, 3, 1, 0, 4, 4, 1, 2, 2, 2, 2, 4, 0, 3, 3, 2, 3, 1, 1, 1, 4, 2, 4, 3, 3, 4, 1, 1, 2, 4, 4, 3, 0, 2, 4, 1, 4, 1, 3, 0, 0, 3, 1, 1, 3, 1, 2, 1, 4, 1, 0, 1, 2, 3, 4, 4, 0, 4, 1, 0, 2, 4, 1, 1, 2, 1, 0, 4, 3, 0, 3, 0, 1, 0, 2, 1, 1, 1, 1, 0, 1, 1, 3, 0, 4, 1, 2, 3, 4, 1, 2, 1, 2, 3, 4, 4, 0, 4, 3, 2, 1, 3, 1, 2, 1, 0, 2, 3, 1, 3, 0, 4, 3, 3, 0, 2, 1, 2, 1, 1, 3, 4, 4, 3, 4, 3, 3, 3, 3, 1, 0, 3, 2, 3, 0, 1, 4, 1, 0, 4, 0, 4, 4, 3, 2, 4, 4, 0, 0, 2, 1, 1, 4, 2, 1, 0, 2, 1, 0, 1, 4, 1, 1, 3, 4, 1, 1, 1, 4, 3, 4, 2, 3, 0, 4, 2, 4, 3, 3, 4, 3, 3, 1, 4, 3, 2, 2, 1, 3, 4, 2, 2, 4, 3, 0, 1, 0, 4, 1, 4, 3, 2, 0, 0, 0, 1, 1, 0, 2, 3, 0, 3, 4, 4, 2, 3, 4, 4, 4, 3, 2, 1, 0, 0, 3, 0, 0, 0, 4, 4, 1, 0, 2, 4, 1, 3, 2, 0, 0, 1, 1, 2, 0, 0, 1, 1, 1, 4, 4, 2, 4, 2, 1, 2, 2, 3, 2, 4, 1, 1, 1, 3, 1, 2, 1, 4, 3, 2, 1, 1, 0, 3, 1, 2, 0, 4, 4, 1, 0, 1, 2, 3, 0, 2, 0, 2, 2, 1, 0, 4, 1, 1, 0, 1, 1, 3, 0, 0, 4, 1, 1, 1, 3, 3, 1, 4, 3, 4, 1, 4, 1, 1, 1, 4, 3, 1, 3, 3, 0, 3, 2, 0, 0, 0, 1, 1, 4, 4, 1, 4, 1, 4, 3, 2, 2, 3, 3, 4, 1, 2, 4, 0, 1, 2, 4, 1, 2, 4, 4, 0, 2, 3, 1, 4, 0, 2, 1, 1, 2, 1, 3, 0, 0, 0, 2, 3, 3, 0, 1, 1, 1, 1, 4, 3, 1, 3, 3, 4, 0, 3, 1, 2, 2, 2, 2, 2, 3, 2, 0, 0, 1, 4, 1, 3, 2, 2, 1, 2, 0, 2, 0, 3, 0, 4, 1, 4, 3, 1, 1, 0, 3, 4, 0, 0, 1, 1, 4, 2, 4, 3, 1, 0, 3, 3, 1, 4, 3, 3, 4, 3, 4, 1, 1, 4, 4, 2, 0, 0, 2, 1, 1, 1, 1, 1, 4, 2, 3, 0, 4, 2, 4, 3, 4, 0, 2, 0, 1, 3, 0, 4, 0, 4, 1, 1, 3, 1, 4, 0, 2, 3, 2, 4, 4, 4, 4, 1, 0, 4, 1, 1, 2, 4, 1, 4, 1, 4, 1, 3, 4, 0, 1, 3, 0, 1, 4, 0, 1, 4, 0, 0, 4, 4, 4, 1, 3, 4, 2, 3, 4, 3, 1, 3, 3, 3, 2, 3, 1, 1, 3, 1, 3, 3, 0, 2, 1, 0, 0, 3, 0, 2, 3, 1, 2, 4, 4, 1, 3, 4, 4, 3, 3, 4, 4, 3, 2, 4, 4, 1, 1, 3, 2, 0, 3, 2, 3, 0, 1, 3, 1, 4, 4, 4, 3, 0, 0, 3, 4, 3, 4, 3, 1, 4, 0, 2, 1, 1, 3, 3, 4, 1, 3, 4, 4, 3, 3, 1, 4, 4, 4, 4, 1, 4, 1, 3, 1, 1, 0, 4, 2, 4, 2, 1, 2, 0, 1, 3, 1, 1, 4, 4, 0, 2, 4, 4, 3, 0, 2, 2, 0, 1, 3, 3, 3, 1, 2, 0, 0, 4, 4, 2, 2, 3, 2, 4, 1, 2, 4, 3, 1, 0, 1, 0, 0, 1, 2, 4, 1, 3, 1, 3, 2, 3, 3, 1, 4, 3, 0, 0, 3, 1, 2, 4, 1, 2, 1, 3, 4, 2, 3, 3, 1, 3, 1, 1, 1, 1, 0, 0, 2, 4, 1, 0, 4, 0, 1, 0, 3, 0, 2, 3, 3, 4, 1, 2, 0, 3, 1, 2, 1, 2, 4, 3, 3, 1, 4, 1, 0, 4, 4, 4, 3, 4, 2, 3, 0, 3, 1, 3, 1, 4, 1, 1, 3, 2, 4, 1, 2, 1, 2, 4, 4, 0, 1, 3, 4, 2, 3, 4, 0, 1, 4, 3, 4, 2, 2, 2, 2, 1, 1, 0, 3, 2, 4, 4, 2, 3, 4, 1, 4, 2, 4, 4, 3, 3, 2, 4, 4, 4, 4, 3, 0, 0, 0, 2, 4, 0, 3, 4, 1, 0, 2, 3, 2, 4, 2, 2, 1, 1, 1, 4, 3, 4, 2, 3, 1, 2, 2, 1, 1, 4, 2, 2, 1, 2, 4, 1, 3, 3, 2, 2, 4, 0, 1, 3, 0, 1, 2, 2, 2, 3, 4, 1, 0, 0, 4, 1, 1, 1, 4, 1, 0, 3, 3, 2, 1, 4, 4, 2, 3, 1, 2, 0, 1, 0, 0, 3, 1, 0, 1, 2, 1, 1, 4, 1, 1, 2, 0, 2, 3, 0, 3, 1, 0, 1, 2, 3, 0, 2, 4, 2, 0, 3, 1, 3, 1, 4, 3, 0, 0, 2, 4, 3, 0, 1, 2, 0, 4, 4, 4, 4, 2, 1, 3, 1, 4, 2, 3, 1, 0, 4, 4, 1, 2, 4, 1, 0, 0, 4, 2, 4, 4, 3, 1, 3, 2, 3, 0, 4, 1, 3, 1, 1, 2, 1, 2, 3, 3, 4, 4, 3, 1, 0, 2, 3, 3, 2, 3, 4, 4, 1, 0, 4, 4, 1, 3, 2, 1, 0, 3, 2, 0, 4, 2, 4, 4, 4, 4, 2, 2, 0, 3, 0, 1, 2, 4, 1, 3, 2, 4, 2, 1, 1, 3, 4, 1, 0, 3, 3, 4, 0, 4, 2, 0, 1, 4, 4, 1, 4, 1, 4, 4, 2, 0, 0, 3, 3, 3, 2, 2, 4, 0, 3, 4, 1, 0, 0, 2, 1, 2, 0, 0, 3, 1, 1, 0, 1, 1, 3, 0, 4, 4, 0, 1, 3, 4, 3, 0, 0, 2, 4, 1, 1, 1, 4, 0, 1, 1, 2, 3, 2, 1, 1, 4, 1, 1, 4, 2, 0, 1, 2, 0, 4, 1, 1, 1, 1, 1, 4, 1, 4, 4, 4, 2, 2, 3, 1, 1, 2, 4, 4, 1, 1, 3, 0, 1, 4, 2, 1, 4, 2, 4, 2, 1, 1, 2, 3, 4, 1, 4, 0, 1, 3, 1, 1, 3, 2, 3, 0, 2, 0, 3, 1, 0, 4, 1, 4, 0, 0, 2, 0, 4, 2, 3, 2, 1, 1, 0, 4, 4, 2, 3, 1, 4, 0, 4, 4, 2, 2, 0, 1, 1, 4, 3, 2, 4, 2, 0, 3, 4, 1, 4, 3, 0, 1, 3, 1, 0, 4, 3, 4, 3, 0, 1, 1, 4, 4, 1, 0, 4, 4, 1, 3, 0, 3, 1, 1, 1, 3, 2, 4, 0, 4, 2, 2, 1, 2, 3, 4, 0, 0, 3, 4, 1, 4, 1, 2, 1, 0, 1, 3, 1, 3, 1, 2, 2, 2, 0, 1, 0, 0, 3, 4, 4, 2, 3, 1, 0, 3, 1, 1, 1, 0, 0, 0, 2, 0, 3, 3, 3, 2, 0, 0, 3, 4, 1, 1, 0, 1, 3, 2, 4, 0, 2, 3, 3, 2, 0, 3, 4, 1, 1, 0, 2, 4, 4, 0, 4, 3, 2, 0, 1, 4, 2, 3, 1, 0, 4, 2, 2, 1, 4, 4, 1, 1, 1, 0, 4, 2, 1, 4, 0, 0, 4, 2, 1, 1, 4, 1, 3, 3, 4, 1, 0, 1, 4, 0, 4, 2, 0, 0, 1, 0, 2, 4, 1, 3, 4, 4, 4, 4, 4, 3, 4, 0, 1, 0, 1, 4, 0, 4, 1, 0, 4, 4, 4, 4, 0, 3, 0, 2, 3, 4, 0, 0, 2, 2, 1, 2, 0, 3, 0, 2, 1, 2, 1, 2, 1, 1, 3, 4, 2, 1, 0, 0, 1, 1, 2, 0, 2, 2, 0, 1, 3, 1, 0, 3, 0, 0, 0, 1, 4, 1, 1, 2, 4, 4, 2, 1, 0, 0, 1, 0, 2, 3, 1, 2, 2, 3, 4, 2, 2, 2, 2, 3, 0, 0, 2, 1, 4, 2, 3, 4, 4, 1, 3, 1, 1, 4, 0, 4, 2, 4, 0, 3, 2, 1, 4, 0, 3, 1, 3, 2, 4, 4, 1, 4, 1, 1, 3, 0, 0, 1, 0, 2, 1, 3, 2, 3, 0, 2, 0, 0, 0, 1, 1, 3, 4, 2, 4, 4, 4, 1, 1, 4, 4, 0, 0, 0, 4, 2, 1, 1, 1, 1, 1, 3, 3, 1, 3, 0, 4, 4, 4, 3, 4, 4, 1, 2, 4, 1, 4, 0, 1, 2, 0, 2, 1, 3, 2, 3, 1, 1, 3, 2, 2, 1, 1, 0, 1, 2, 4, 3, 1, 1, 4, 2, 1, 0, 3, 0, 0, 2, 1, 0, 0, 4, 3, 2, 1, 4, 0, 2, 3, 4, 1, 1, 1, 2, 3, 1, 2, 4, 4, 4, 1, 4, 3, 0, 1, 4, 1, 3, 3, 4, 1, 2, 2, 0, 4, 2, 4, 4, 0, 2, 2, 4, 1, 4, 3, 1, 0, 4, 0, 2, 2, 2, 2, 4, 4, 0, 4, 1, 1, 2, 4, 1, 2, 0, 2, 4, 1, 2, 0, 4, 3, 0, 4, 3, 0, 1, 1, 0, 2, 1, 3, 1, 2, 2, 2, 3, 4, 4, 1, 4, 4, 1, 0, 1, 3, 0, 4, 1, 3, 2, 3, 4, 1, 3, 4, 0, 3, 0, 0, 3, 1, 4, 2, 3, 2, 1, 4, 4, 1, 2, 3, 0, 2, 3, 2, 2, 1, 0, 3, 4, 1, 1, 4, 4, 2, 1, 2, 1, 2, 2, 4, 3, 1, 4, 2, 1, 1, 1, 3, 4, 4, 2, 1, 3, 4, 0, 3, 1, 3, 4, 0, 4, 0, 1, 0, 4, 2, 3, 0, 3, 4, 1, 2, 3, 0, 4, 4, 0, 2, 2, 1, 1, 1, 1, 4, 0, 1, 4, 4, 4, 3, 2, 1, 4, 4, 4, 2, 1, 4, 3, 4, 1, 3, 4, 4, 2, 0, 3, 2, 2, 4, 1, 4, 3, 0, 0, 4, 1, 0, 0, 3, 4, 1, 3, 4, 0, 0, 1, 4, 2, 0, 1, 1, 2, 2, 2, 1, 1, 0, 1, 2, 0, 4, 0, 0, 2, 4, 3, 4, 3, 4, 1, 2, 4, 4, 3, 4, 2, 1, 4, 0, 4, 0, 1, 3, 1, 1, 1, 4, 1, 3, 4, 1, 4, 2, 1, 1, 3, 3, 4, 3, 2, 0, 4, 2, 3, 1, 4, 4, 2, 0, 1, 2, 3, 4, 0, 0, 2, 4, 3, 3, 4, 1, 0, 0, 0, 4, 1, 2, 1, 1, 4, 3, 3, 0, 0, 4, 1, 3, 0, 0, 3, 2, 2, 2, 3, 4, 1, 1, 2, 4, 4, 3, 1, 2, 1, 0, 4, 4, 4, 4, 0, 1, 1, 1, 3, 2, 4, 0, 4, 1, 1, 1, 1, 3, 1, 0, 4, 0, 2, 0, 4, 2, 3, 4, 0, 4, 4, 3, 0, 3, 0, 0, 4, 3, 3, 4, 0, 1, 3, 1, 2, 1, 0, 1, 1, 2, 1, 0, 2, 0, 4, 3, 1, 1, 2, 2, 2, 4, 1, 1, 0, 4, 3, 4, 3, 1, 0, 1, 0, 1, 4, 4, 3, 0, 1, 1, 2, 4, 0, 2, 3, 0, 0, 1, 4, 2, 1, 4, 3, 4, 2, 2, 2, 4, 4, 3, 1, 0, 3, 3, 2, 1, 0, 4, 4, 2, 3, 4, 1, 1, 1, 4, 4, 3, 1, 4, 0, 3, 2, 2, 3, 3, 1, 3, 2, 3, 4, 0, 2, 1, 4, 4, 3, 1, 0, 4, 0, 1, 4, 3, 1, 4, 4, 2, 0, 1, 2, 3, 3, 0, 0, 0, 1, 1, 3, 0, 0, 2, 0, 0, 4, 3, 1, 1, 4, 0, 4, 1, 4, 3, 3, 2, 4, 4, 2, 1, 3, 1, 1, 3, 1, 1, 4, 1, 4, 1, 4, 3, 4, 1, 4, 2, 1, 4, 0, 2, 1, 3, 1, 1, 4, 4, 1, 1, 3, 4, 4, 2, 4, 4, 0, 4, 4, 1, 1, 1, 3, 0, 4, 3, 2, 3, 4, 4, 1, 3, 1, 0, 2, 1, 4, 1, 2, 2, 4, 4, 2, 2, 0, 4, 4, 4, 1, 3, 4, 2, 1, 3, 0, 0, 4, 0, 3, 0, 1, 2, 3, 2, 4, 2, 1, 1, 2, 3, 4, 4, 2, 2, 0, 1, 1, 1, 3, 2, 0, 2, 0, 0, 4, 4, 2, 0, 3, 0, 4, 0, 4, 4, 4, 0, 0, 0, 1, 1, 4, 2, 2, 4, 3, 1, 4, 4, 3, 0, 2, 2, 4, 0, 0, 1, 4, 3, 3, 4, 3, 4, 4, 1, 4, 3, 3, 2, 1, 4, 0, 1, 0, 2, 2, 2, 0, 2, 2, 2, 0, 2, 4, 3, 0, 0, 3, 0, 2, 4, 3, 3, 2, 1, 4, 3, 2, 1, 1, 0, 4, 0, 3, 2, 3, 1, 4, 1, 3, 2, 4, 2, 1, 3, 1, 1, 4, 3, 1, 4, 4, 4, 4, 2, 0, 4, 3, 1, 2, 0, 0, 0, 2, 2, 1, 1, 3, 4, 0, 2, 1, 0, 4, 4, 3, 1, 0, 1, 1, 4, 1, 4, 0, 1, 1, 4, 0, 1, 0, 3, 1, 1, 1, 3, 1, 1, 2, 2, 3, 1, 2, 3, 4, 4, 3, 1, 4, 0, 2, 1, 4, 2, 0, 0, 1, 2, 3, 4, 0, 3, 1, 1, 1, 2, 4, 1, 2, 4, 3, 0, 2, 0, 1, 1, 2, 4, 4, 2, 1, 2, 3, 4, 4, 0, 1, 2, 3, 2, 4, 4, 0, 0, 1, 2, 3, 4, 0, 1, 3, 4, 3, 2, 2, 3, 1, 0, 4, 3, 0, 0, 3, 2, 2, 0, 2, 1, 1, 3, 3, 1, 0, 1, 2, 0, 3, 0, 2, 1, 4, 1, 2, 1, 1, 1, 4, 2, 2, 0, 4, 4, 1, 0, 2, 2, 4, 0, 4, 2, 3, 0, 3, 1, 1, 1, 3, 3, 1, 4, 1, 1, 3, 3, 0, 1, 2, 1, 1, 1, 1, 1, 4, 1, 4, 3, 2, 3, 3, 2, 4, 4, 3, 4, 4, 4, 1, 1, 0, 0, 4, 1, 2, 3, 4, 0, 2, 1, 0, 4, 0, 4, 2, 2, 2, 2, 4, 2, 4, 1, 0, 1, 1, 4, 2, 3, 3, 4, 1, 0, 0, 4, 4, 2, 2, 3, 3, 3, 3, 3, 1, 2, 4, 0, 1, 1, 0, 0, 2, 2, 4, 3, 2, 3, 4, 2, 1, 1, 4, 1, 1, 4, 3, 3, 4]\n"
     ]
    }
   ],
   "source": [
    "print(y_train)"
   ]
  }
 ],
 "metadata": {
  "kernelspec": {
   "display_name": "Python 3 (ipykernel)",
   "language": "python",
   "name": "python3"
  },
  "language_info": {
   "codemirror_mode": {
    "name": "ipython",
    "version": 3
   },
   "file_extension": ".py",
   "mimetype": "text/x-python",
   "name": "python",
   "nbconvert_exporter": "python",
   "pygments_lexer": "ipython3",
   "version": "3.9.7"
  }
 },
 "nbformat": 4,
 "nbformat_minor": 5
}
