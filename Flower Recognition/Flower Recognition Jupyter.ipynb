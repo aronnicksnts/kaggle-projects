{
 "cells": [
  {
   "cell_type": "code",
   "execution_count": 1,
   "id": "556bf790",
   "metadata": {},
   "outputs": [],
   "source": [
    "from sklearn.neighbors import KNeighborsClassifier\n",
    "from sklearn.model_selection import train_test_split\n",
    "from sklearn.metrics import multilabel_confusion_matrix\n",
    "from sklearn.metrics import ConfusionMatrixDisplay\n",
    "from imutils import paths\n",
    "import numpy as np\n",
    "import pandas as pd\n",
    "import argparse\n",
    "import imutils\n",
    "import cv2\n",
    "import os\n",
    "import matplotlib.pyplot as plt"
   ]
  },
  {
   "cell_type": "code",
   "execution_count": 2,
   "id": "937c6aa8",
   "metadata": {},
   "outputs": [],
   "source": [
    "def image_to_feature_vector(image, size=(64,64)):\n",
    "    return cv2.resize(image,size).flatten()\n",
    "\n",
    "def extract_color_histogram(image, bins=(8,8,8)):\n",
    "    # extract a 3D color histogram from the HSV color space using\n",
    "\t# the supplied number of `bins` per channel\n",
    "    hsv = cv2.cvtColor(image, cv2.COLOR_BGR2HSV)\n",
    "    hist = cv2.calcHist([hsv], [0,1,2], None, bins, [0,180,0,256,0,256])\n",
    "    \n",
    "\t# handle normalizing the histogram if we are using OpenCV 2.4.X\n",
    "    if imutils.is_cv2():\n",
    "        hist = cv2.normalize(hist)\n",
    "    # otherwise, perform \"in place\" normalization in OpenCV 3 (I\n",
    "\t# personally hate the way this is done\n",
    "    else:\n",
    "        cv2.normalize(hist,hist)\n",
    "    # return the flattened histogram as the feature vector\n",
    "    return hist.flatten()"
   ]
  },
  {
   "cell_type": "code",
   "execution_count": 3,
   "id": "4e751ce8",
   "metadata": {
    "collapsed": true
   },
   "outputs": [
    {
     "name": "stdout",
     "output_type": "stream",
     "text": [
      "[INFO] describing images...\n",
      "D:\\Desktop Folder\\Self Projects\\Flower Recognition\\flowers\n"
     ]
    }
   ],
   "source": [
    "# initialize the raw pixel intensities matrix, the features matrix,\n",
    "# and labels list\n",
    "rawImages = []\n",
    "features = []\n",
    "labels = []\n",
    "\n",
    "# grab the list of images that we'll be describing\n",
    "print(\"[INFO] describing images...\")\n",
    "os.chdir(os.getcwd()+'\\\\flowers')\n",
    "print(os.getcwd())"
   ]
  },
  {
   "cell_type": "code",
   "execution_count": 4,
   "id": "3c3b38a8",
   "metadata": {},
   "outputs": [
    {
     "name": "stdout",
     "output_type": "stream",
     "text": [
      "daisy Processed\n",
      "dandelion Processed\n",
      "rose Processed\n",
      "sunflower Processed\n",
      "tulip Processed\n"
     ]
    }
   ],
   "source": [
    "i = 0\n",
    "for x in os.walk(os.getcwd()):\n",
    "    if i == 0:\n",
    "        i += 1\n",
    "        continue\n",
    "    flower_label = x[0].split('\\\\')[-1]\n",
    "    for flowers in x[1:]:\n",
    "        for flower in flowers:\n",
    "            imagePath = os.getcwd()+f\"\\\\{flower_label}\"+f\"\\\\{flower}\"\n",
    "            image = cv2.imread(imagePath)\n",
    "            pixels = image_to_feature_vector(image)\n",
    "            hist = extract_color_histogram(image)\n",
    "            \n",
    "            rawImages.append(pixels)\n",
    "            features.append(hist)\n",
    "            labels.append(flower_label)\n",
    "    print(f\"{flower_label} Processed\")"
   ]
  },
  {
   "cell_type": "code",
   "execution_count": 5,
   "id": "901c593b",
   "metadata": {},
   "outputs": [
    {
     "name": "stdout",
     "output_type": "stream",
     "text": [
      "[INFO] Evaluating Raw Pixel Accuracy\n",
      "[INFO] histogram accuracy: 45.19\n"
     ]
    }
   ],
   "source": [
    "(trainRI, testRI, trainRL, testRL) = train_test_split(rawImages, labels, test_size =0.25, stratify=labels)\n",
    "(trainFeat, testFeat, trainLabels, testLabels) = train_test_split(features, labels, test_size =0.25, stratify=labels)\n",
    "\n",
    "print(\"[INFO] Evaluating Raw Pixel Accuracy\")\n",
    "model = KNeighborsClassifier(n_neighbors=4, n_jobs=-1)\n",
    "model.fit(trainFeat,trainLabels)\n",
    "acc = model.score(testFeat,testLabels)\n",
    "\n",
    "print(f\"[INFO] histogram accuracy: {acc*100:.2f}\")"
   ]
  },
  {
   "cell_type": "code",
   "execution_count": 6,
   "id": "b0a2e128",
   "metadata": {},
   "outputs": [
    {
     "name": "stdout",
     "output_type": "stream",
     "text": [
      "[[[718  92]\n",
      "  [171  99]]\n",
      "\n",
      " [[663 146]\n",
      "  [154 117]]\n",
      "\n",
      " [[788 117]\n",
      "  [ 96  79]]\n",
      "\n",
      " [[828  87]\n",
      "  [ 68  97]]\n",
      "\n",
      " [[731 150]\n",
      "  [103  96]]]\n"
     ]
    }
   ],
   "source": [
    "cf_matrix = multilabel_confusion_matrix(model.predict(testFeat), testLabels, labels=['daisy', 'dandelion','rose', 'sunflower', 'tulip'])\n",
    "\n",
    "print(cf_matrix)"
   ]
  },
  {
   "cell_type": "code",
   "execution_count": 7,
   "id": "0a35cc26",
   "metadata": {},
   "outputs": [
    {
     "name": "stdout",
     "output_type": "stream",
     "text": [
      "              precision    recall  f1-score      support\n",
      "daisy          0.366667  0.518325  0.429501   191.000000\n",
      "dandelion      0.431734  0.444867  0.438202   263.000000\n",
      "rose           0.451429  0.403061  0.425876   196.000000\n",
      "sunflower      0.587879  0.527174  0.555874   184.000000\n",
      "tulip          0.482412  0.390244  0.431461   246.000000\n",
      "accuracy       0.451852  0.451852  0.451852     0.451852\n",
      "macro avg      0.464024  0.456734  0.456183  1080.000000\n",
      "weighted avg   0.461947  0.451852  0.452939  1080.000000\n"
     ]
    }
   ],
   "source": [
    "import sklearn\n",
    "report = sklearn.metrics.classification_report(testLabels, model.predict(testFeat), output_dict=True)\n",
    "df = pd.DataFrame(report).transpose()\n",
    "print(df)"
   ]
  },
  {
   "cell_type": "code",
   "execution_count": null,
   "id": "5c7152be",
   "metadata": {},
   "outputs": [],
   "source": []
  },
  {
   "cell_type": "code",
   "execution_count": null,
   "id": "4635003a",
   "metadata": {},
   "outputs": [],
   "source": []
  }
 ],
 "metadata": {
  "kernelspec": {
   "display_name": "Python 3 (ipykernel)",
   "language": "python",
   "name": "python3"
  },
  "language_info": {
   "codemirror_mode": {
    "name": "ipython",
    "version": 3
   },
   "file_extension": ".py",
   "mimetype": "text/x-python",
   "name": "python",
   "nbconvert_exporter": "python",
   "pygments_lexer": "ipython3",
   "version": "3.9.7"
  }
 },
 "nbformat": 4,
 "nbformat_minor": 5
}
