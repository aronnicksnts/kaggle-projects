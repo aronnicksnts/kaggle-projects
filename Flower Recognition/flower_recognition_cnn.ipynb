{
 "cells": [
  {
   "cell_type": "code",
   "execution_count": 92,
   "id": "556bf790",
   "metadata": {},
   "outputs": [],
   "source": [
    "import os\n",
    "import glob\n",
    "import cv2\n",
    "import numpy as np\n",
    "import pandas as pd\n",
    "from PIL import Image\n",
    "from pathlib import Path\n",
    "from keras.models import Sequential, Model,load_model\n",
    "from keras.applications.vgg16 import VGG16, preprocess_input\n",
    "from keras.preprocessing.image import ImageDataGenerator\n",
    "from keras.utils import load_img, img_to_array\n",
    "from keras.layers import Conv2D, MaxPooling2D, Dense, Dropout, Input, Flatten, Activation\n",
    "from sklearn.metrics import confusion_matrix\n",
    "from keras.utils import to_categorical\n",
    "import tensorflow as tf\n",
    "import matplotlib.pyplot as plt\n",
    "from sklearn.model_selection import train_test_split\n",
    "from sklearn.metrics import classification_report\n",
    "import seaborn as sn"
   ]
  },
  {
   "cell_type": "code",
   "execution_count": 80,
   "id": "937c6aa8",
   "metadata": {},
   "outputs": [
    {
     "name": "stdout",
     "output_type": "stream",
     "text": [
      "daisy Processed\n",
      "dandelion Processed\n",
      "rose Processed\n",
      "sunflower Processed\n",
      "tulip Processed\n"
     ]
    }
   ],
   "source": [
    "#Process each image and put images and their label into df\n",
    "data_dir = Path(\"flowers/\")\n",
    "train_data = []\n",
    "train_label = []\n",
    "df = pd.DataFrame(columns = ['Image', 'Label'])\n",
    "\n",
    "i = 0\n",
    "\n",
    "flower_type = {\"daisy\": 0, \"dandelion\": 1, \"rose\": 2, \"sunflower\": 3, \"tulip\": 4}\n",
    "for x in os.walk(data_dir):\n",
    "    if x[0] == \"flowers\":\n",
    "        continue\n",
    "    flower_label_name = x[0].split('\\\\')[-1]\n",
    "    for flowers in x[1:]:\n",
    "        for flower in flowers:\n",
    "            imagePath = os.getcwd()+f\"\\\\{data_dir}\"+f\"\\\\{flower_label_name}\"+f\"\\\\{flower}\"\n",
    "            image = cv2.imread(imagePath)\n",
    "            image = cv2.resize(image, (256,256))\n",
    "            if image.shape[2] == 1:\n",
    "                img = np.dstack([image,image,image])\n",
    "            image = cv2.cvtColor(image, cv2.COLOR_BGR2RGB)\n",
    "            image = image.astype(np.float32)/255\n",
    "            train_data.append(image)\n",
    "            \n",
    "            flower_label = flower_type[flower_label_name]\n",
    "            train_label.append(flower_label)\n",
    "            df = df.append({\"Image\": flower, \"Label\": flower_label_name}, ignore_index=True)\n",
    "            \n",
    "\n",
    "\n",
    "    print(f\"{flower_label_name} Processed\")\n",
    "\n",
    "df=df.sample(frac=1).reset_index(drop=True)"
   ]
  },
  {
   "cell_type": "code",
   "execution_count": 81,
   "id": "354f293b",
   "metadata": {},
   "outputs": [
    {
     "data": {
      "image/png": "[encoded data removed]",
      "text/plain": [
       "<Figure size 432x288 with 1 Axes>"
      ]
     },
     "metadata": {
      "needs_background": "light"
     },
     "output_type": "display_data"
    }
   ],
   "source": [
    "#Show number of images per label\n",
    "plt.bar(df['Label'].value_counts().index, df['Label'].value_counts().values)\n",
    "plt.show()"
   ]
  },
  {
   "cell_type": "code",
   "execution_count": 82,
   "id": "01c54e34",
   "metadata": {},
   "outputs": [],
   "source": [
    "#Split data into training set, test set,\n",
    "(x_train, x_test, y_train, y_test) = train_test_split(train_data, train_label, test_size=0.25, stratify=train_label)\n",
    "# (x_train, x_val, y_train, y_val) = train_test_split(x_train, y_train, test_size=0.1, stratify=y_train)"
   ]
  },
  {
   "cell_type": "code",
   "execution_count": 83,
   "id": "2e777b49",
   "metadata": {
    "scrolled": true
   },
   "outputs": [],
   "source": [
    "#Creation of Model with 5 output layer for each Flower Type\n",
    "model = Sequential()\n",
    "model.add(Conv2D(32,(3,3), input_shape=(256,256,3)))\n",
    "model.add(Activation('relu'))\n",
    "model.add(MaxPooling2D(pool_size=(2,2)))\n",
    "\n",
    "model.add(Conv2D(32,(3,3)))\n",
    "model.add(Activation('relu'))\n",
    "model.add(MaxPooling2D(pool_size=(2,2)))\n",
    "\n",
    "model.add(Conv2D(64,(3,3)))\n",
    "model.add(Activation('relu'))\n",
    "model.add(MaxPooling2D(pool_size=(2,2)))\n",
    "\n",
    "model.add(Flatten())\n",
    "model.add(Dense(64))\n",
    "model.add(Activation('relu'))\n",
    "model.add(Dense(5))\n",
    "model.add(Activation('softmax'))\n",
    "\n",
    "model.compile(loss='binary_crossentropy',\n",
    "             optimizer='rmsprop',\n",
    "             metrics=['accuracy'])"
   ]
  },
  {
   "cell_type": "code",
   "execution_count": 84,
   "id": "7c2917a6",
   "metadata": {},
   "outputs": [
    {
     "name": "stdout",
     "output_type": "stream",
     "text": [
      "(3237, 5)\n",
      "(3237, 256, 256, 3)\n"
     ]
    }
   ],
   "source": [
    "#Changing labels to categorical and the input into numpy.array\n",
    "Y_train = to_categorical(y_train, num_classes=5)\n",
    "X_train = np.array(x_train)\n",
    "X_test = np.array(x_test)\n",
    "Y_test = to_categorical(y_test, num_classes=5)\n",
    "print(Y_train.shape)\n",
    "print(X_train.shape)"
   ]
  },
  {
   "cell_type": "code",
   "execution_count": 85,
   "id": "dab0495d",
   "metadata": {},
   "outputs": [
    {
     "name": "stdout",
     "output_type": "stream",
     "text": [
      "Epoch 1/10\n",
      "13/13 [==============================] - 65s 4s/step - loss: 1.0702 - accuracy: 0.2524 - val_loss: 0.4962 - val_accuracy: 0.2981\n",
      "Epoch 2/10\n",
      "13/13 [==============================] - 46s 4s/step - loss: 0.5020 - accuracy: 0.3163 - val_loss: 0.4883 - val_accuracy: 0.4111\n",
      "Epoch 3/10\n",
      "13/13 [==============================] - 46s 4s/step - loss: 0.4574 - accuracy: 0.4285 - val_loss: 0.4316 - val_accuracy: 0.4981\n",
      "Epoch 4/10\n",
      "13/13 [==============================] - 45s 3s/step - loss: 0.4190 - accuracy: 0.4897 - val_loss: 0.3825 - val_accuracy: 0.5815\n",
      "Epoch 5/10\n",
      "13/13 [==============================] - 45s 3s/step - loss: 0.3962 - accuracy: 0.5252 - val_loss: 0.3925 - val_accuracy: 0.4759\n",
      "Epoch 6/10\n",
      "13/13 [==============================] - 45s 3s/step - loss: 0.3840 - accuracy: 0.5477 - val_loss: 0.4016 - val_accuracy: 0.5333\n",
      "Epoch 7/10\n",
      "13/13 [==============================] - 45s 3s/step - loss: 0.3569 - accuracy: 0.5953 - val_loss: 0.3854 - val_accuracy: 0.5444\n",
      "Epoch 8/10\n",
      "13/13 [==============================] - 45s 3s/step - loss: 0.3507 - accuracy: 0.6055 - val_loss: 0.3655 - val_accuracy: 0.5741\n",
      "Epoch 9/10\n",
      "13/13 [==============================] - 45s 3s/step - loss: 0.3204 - accuracy: 0.6487 - val_loss: 0.3766 - val_accuracy: 0.6194\n",
      "Epoch 10/10\n",
      "13/13 [==============================] - 45s 3s/step - loss: 0.2972 - accuracy: 0.6778 - val_loss: 0.3444 - val_accuracy: 0.6185\n"
     ]
    }
   ],
   "source": [
    "history = model.fit(x=X_train,y=Y_train, epochs=10, batch_size=256,\n",
    "                   validation_data = (X_test, Y_test))"
   ]
  },
  {
   "cell_type": "code",
   "execution_count": 93,
   "id": "a5945daa",
   "metadata": {},
   "outputs": [
    {
     "name": "stdout",
     "output_type": "stream",
     "text": [
      "34/34 [==============================] - 3s 81ms/step\n",
      "              precision    recall  f1-score   support\n",
      "\n",
      "       daisy       0.55      0.61      0.58       191\n",
      "   dandelion       0.59      0.79      0.68       263\n",
      "        rose       0.66      0.37      0.48       196\n",
      "   sunflower       0.64      0.80      0.71       184\n",
      "       tulip       0.69      0.50      0.58       246\n",
      "\n",
      "    accuracy                           0.62      1080\n",
      "   macro avg       0.63      0.62      0.61      1080\n",
      "weighted avg       0.63      0.62      0.61      1080\n",
      "\n"
     ]
    },
    {
     "data": {
      "text/plain": [
       "<AxesSubplot:xlabel='Predicted', ylabel='Actual'>"
      ]
     },
     "execution_count": 93,
     "metadata": {},
     "output_type": "execute_result"
    },
    {
     "data": {
      "image/png": "[encoded data removed]",
      "text/plain": [
       "<Figure size 720x504 with 2 Axes>"
      ]
     },
     "metadata": {
      "needs_background": "light"
     },
     "output_type": "display_data"
    }
   ],
   "source": [
    "matrix_index = [\"daisy\", \"dandelion\", \"rose\",\"sunflower\",\"tulip\"]\n",
    "preds = model.predict(X_test)\n",
    "classpreds = np.argmax(preds, axis=1) # Predicted Classes\n",
    "y_testclass = np.argmax(Y_test, axis =1) # True classes\n",
    "\n",
    "cm = confusion_matrix(y_testclass, classpreds)\n",
    "\n",
    "print(classification_report(y_testclass, classpreds, target_names = matrix_index))\\\n",
    "\n",
    "# Get percentage value for each element of the matrix\n",
    "cm_sum = np.sum(cm, axis=1, keepdims=True)\n",
    "cm_perc = cm / cm_sum.astype(float) * 100\n",
    "annot = np.empty_like(cm).astype(str)\n",
    "nrows, ncols = cm.shape\n",
    "for i in range(nrows):\n",
    "    for j in range(ncols):\n",
    "        c = cm[i, j]\n",
    "        p = cm_perc[i, j]\n",
    "        if i == j:\n",
    "            s = cm_sum[i]\n",
    "            annot[i, j] = '%.1f%%\\n%d/%d' % (p, c, s)\n",
    "        elif c == 0:\n",
    "            annot[i, j] = ''\n",
    "        else:\n",
    "            annot[i, j] = '%.1f%%\\n%d' % (p, c)\n",
    "\n",
    "\n",
    "# Display confusion matrix \n",
    "df_cm = pd.DataFrame(cm, index = matrix_index, columns = matrix_index)\n",
    "df_cm.index.name = 'Actual'\n",
    "df_cm.columns.name = 'Predicted'\n",
    "fig, ax = plt.subplots(figsize=(10,7))\n",
    "sn.heatmap(df_cm, annot=annot, fmt='')"
   ]
  }
 ],
 "metadata": {
  "kernelspec": {
   "display_name": "Python 3 (ipykernel)",
   "language": "python",
   "name": "python3"
  },
  "language_info": {
   "codemirror_mode": {
    "name": "ipython",
    "version": 3
   },
   "file_extension": ".py",
   "mimetype": "text/x-python",
   "name": "python",
   "nbconvert_exporter": "python",
   "pygments_lexer": "ipython3",
   "version": "3.9.7"
  }
 },
 "nbformat": 4,
 "nbformat_minor": 5
}
