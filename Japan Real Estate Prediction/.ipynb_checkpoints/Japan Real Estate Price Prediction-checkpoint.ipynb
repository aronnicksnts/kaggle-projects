{
 "cells": [
  {
   "cell_type": "code",
   "execution_count": null,
   "id": "c3175842",
   "metadata": {},
   "outputs": [],
   "source": [
    "import pandas as pd\n",
    "import numpy as np\n",
    "import os\n",
    "from glob import glob\n",
    "import matplotlib.pyplot as plt\n",
    "from sklearn.model_selection import train_test_split\n",
    "import tensorflow as tf\n",
    "from tensorflow.keras.utils import to_categorical\n",
    "\n",
    "from sklearn.neural_network import MLPRegressor\n",
    "import xgboost as xgb\n",
    "from sklearn import linear_model\n",
    "from sklearn.model_selection import cross_val_score, KFold\n",
    "\n",
    "from sklearn.metrics import mean_squared_error\n",
    "from sklearn.metrics import mean_absolute_error"
   ]
  },
  {
   "cell_type": "code",
   "execution_count": null,
   "id": "830c7633",
   "metadata": {},
   "outputs": [],
   "source": [
    "#Check number of prefectures in data\n",
    "prefectures = pd.read_csv('prefecture_code.csv')\n",
    "prefectures.head()"
   ]
  },
  {
   "cell_type": "markdown",
   "id": "7c2eedab",
   "metadata": {},
   "source": [
    "A total of 47 prefectures is in the trade_prices csv files, from this we're going to check the number of columns and what might be relevant"
   ]
  },
  {
   "cell_type": "code",
   "execution_count": null,
   "id": "c734d896",
   "metadata": {},
   "outputs": [],
   "source": [
    "#Opening of one of the trade_prices csv file\n",
    "df = pd.read_csv('trade_prices//01.csv')\n",
    "df.head()"
   ]
  },
  {
   "cell_type": "code",
   "execution_count": null,
   "id": "5dff0f7e",
   "metadata": {},
   "outputs": [],
   "source": [
    "print(df.shape)\n",
    "print(df.columns)"
   ]
  },
  {
   "cell_type": "markdown",
   "id": "71931e7e",
   "metadata": {},
   "source": [
    "From this, it appears that the dataset contains 38 columns and 186238 entries. It can also be noted that the prefecture has not been edited to its prefecture code. All data would now then be loaded into a single pandas DataFrame"
   ]
  },
  {
   "cell_type": "code",
   "execution_count": null,
   "id": "ea4163b2",
   "metadata": {},
   "outputs": [],
   "source": [
    "df.drop(df.index, inplace=True)\n",
    "#Describing dtype in each of the column \n",
    "df = pd.concat((pd.read_csv(file, dtype={\n",
    "    'No': 'int64',  'Type': 'category', 'Region': 'category', 'MunicipalityCode': 'category', 'Prefecture': 'category',\n",
    "    'Municipality': 'category', 'DistrictName': 'category', 'NearestStation': 'category', 'TimeToNearestStation': 'string',\n",
    "    'MinTimeToNearestStation': 'string', 'MaxTimeToNearestStation': 'string', 'TradePrice': 'float', 'FloorPlan': 'category',\n",
    "    'Area': 'float', 'AreaIsGreaterFlag': 'bool', 'UnitPrice': 'float', 'PricePerTsubo': 'float', 'LandShape': 'category',\n",
    "    'Frontage': 'float', 'FrontageIsGreaterFlag': 'bool', 'TotalFloorArea': 'float', 'TotalFloorAreaIsGreaterFlag': 'float',\n",
    "    'BuildingYear': 'float', 'PrewarBuilding': 'bool', 'Structure': 'category', 'Use': 'category', 'Purpose': 'category',\n",
    "    'Direction': 'category', 'Classification': 'category', 'Breadth': 'float', 'CityPlanning': 'category',\n",
    "    'CoverageRatio': 'float', 'FloorAreaRatio': 'float', 'Period': 'category', 'Year': 'int64', 'Quarter': 'int64',\n",
    "    'Renovation': 'category', 'Remarks': 'string'\n",
    "}) for file in glob('trade_prices/*.csv')), ignore_index=True)"
   ]
  },
  {
   "cell_type": "code",
   "execution_count": null,
   "id": "6d30e08d",
   "metadata": {},
   "outputs": [],
   "source": [
    "df.head()"
   ]
  },
  {
   "cell_type": "markdown",
   "id": "af5a333d",
   "metadata": {},
   "source": [
    "From the following columns, the column 'No' can be omitted from the dataset as it would have no purpose on the prediction of real estate prices\n",
    "\n",
    "As TimeToNearestStation and MinTime and MaxTime ToNearestStation is related to each other where TimeToNearestStation would be a string in which it describes the time range when one could reach the nearest station, this column is also omitted\n",
    "\n",
    "As the 'Period' Column only pertains to the 'Quarter' Columns, this column can also be removed\n",
    "\n",
    "The 'Remarks' Column is rarely used, this column is also removed from the dataset."
   ]
  },
  {
   "cell_type": "markdown",
   "id": "7aab3541",
   "metadata": {},
   "source": [
    "# Removal of Initial Data & Null Values"
   ]
  },
  {
   "cell_type": "code",
   "execution_count": null,
   "id": "4a724697",
   "metadata": {},
   "outputs": [],
   "source": [
    "df.drop(columns=['No','TimeToNearestStation', 'Period', 'Remarks'], inplace=True)\n",
    "df.head()"
   ]
  },
  {
   "cell_type": "code",
   "execution_count": null,
   "id": "321d09f2",
   "metadata": {},
   "outputs": [],
   "source": [
    "#Shows number of missing data in each of the column\n",
    "print(df.isnull().sum())\n",
    "print(df.shape)"
   ]
  },
  {
   "cell_type": "markdown",
   "id": "58e9ebdd",
   "metadata": {},
   "source": [
    "Columns in which more than 1 million records of data is missing would be omitted, the following columns are:\n",
    "- Floor Plan\n",
    "- Structure\n",
    "- Use\n",
    "- Purpose\n",
    "- Renovation\n",
    "- Region\n",
    "- Unit Price\n",
    "- PricePerTsubo\n",
    "- LandShape\n",
    "- Frontage\n",
    "- TotalFloorArea\n",
    "- BuildingYear\n",
    "- Structure\n",
    "- Use\n",
    "- Purpose\n",
    "- Direction\n",
    "- Classification\n",
    "- Breadth"
   ]
  },
  {
   "cell_type": "code",
   "execution_count": null,
   "id": "e0109710",
   "metadata": {
    "scrolled": true
   },
   "outputs": [],
   "source": [
    "df.drop(columns=['FloorPlan','Structure', 'Use', 'Purpose', 'Renovation', 'Region' ,'UnitPrice',\n",
    "                'PricePerTsubo', 'LandShape', 'Frontage', 'TotalFloorArea','BuildingYear','Structure','Use',\n",
    "                'Purpose','Direction','Classification','Breadth'], inplace=True)\n",
    "df.head()"
   ]
  },
  {
   "cell_type": "code",
   "execution_count": null,
   "id": "99c273d1",
   "metadata": {},
   "outputs": [],
   "source": [
    "print(df.isnull().sum())\n",
    "print(df.shape)"
   ]
  },
  {
   "cell_type": "markdown",
   "id": "cc0ea45d",
   "metadata": {},
   "source": [
    "The remaining data that have null values would be removed from the dataset"
   ]
  },
  {
   "cell_type": "code",
   "execution_count": null,
   "id": "a8f4d5ed",
   "metadata": {},
   "outputs": [],
   "source": [
    "df = df.dropna()\n",
    "print(df.isnull().sum())\n",
    "print(df.shape)"
   ]
  },
  {
   "cell_type": "markdown",
   "id": "4bad7cdf",
   "metadata": {},
   "source": [
    "From this, it appears that approximately 3.07 million records would be used for the training and testing of the dataset.\n",
    "\n",
    "The model would be attempting to predict the TradePrice column based on the values of the other columns."
   ]
  },
  {
   "cell_type": "markdown",
   "id": "500f5c30",
   "metadata": {},
   "source": [
    "# Removal of TradePrice == 0"
   ]
  },
  {
   "cell_type": "code",
   "execution_count": null,
   "id": "79b86e43",
   "metadata": {
    "scrolled": true
   },
   "outputs": [],
   "source": []
  },
  {
   "cell_type": "markdown",
   "id": "8f207e7f",
   "metadata": {},
   "source": [
    "# Checking for Correlated Columns"
   ]
  },
  {
   "cell_type": "code",
   "execution_count": null,
   "id": "7875f4de",
   "metadata": {
    "scrolled": true
   },
   "outputs": [],
   "source": [
    "#Know correlation between data, data that has a correlation value of more than 0.5 would have one of the columns be omitted\n",
    "df.corr()"
   ]
  },
  {
   "cell_type": "markdown",
   "id": "413e9f13",
   "metadata": {},
   "source": [
    "From the data given above, the columns\n",
    "- Area : AreaIsGreaterFlag\n",
    "- FloorAreaRatio : CoverageRatio\n",
    "\n",
    "Are moderately to highly correlated, thus AreaIsGreaterFlag column and CoverageRatio would be dropped from the dataset"
   ]
  },
  {
   "cell_type": "code",
   "execution_count": null,
   "id": "bc035536",
   "metadata": {},
   "outputs": [],
   "source": [
    "df.drop(columns=['AreaIsGreaterFlag', 'CoverageRatio'], inplace=True)\n",
    "df.head()"
   ]
  },
  {
   "cell_type": "markdown",
   "id": "d978dacf",
   "metadata": {},
   "source": [
    "Now, as the data has prices of different real estates from 47 different prefectures, we want to know if there is any difference between the average prices between each of the prefectures"
   ]
  },
  {
   "cell_type": "markdown",
   "id": "0dd796aa",
   "metadata": {},
   "source": [
    "# Conversion of TradePrice to log2"
   ]
  },
  {
   "cell_type": "markdown",
   "id": "371bced4",
   "metadata": {},
   "source": [
    "As the trade price is heavily right skewed, TradePrice would be converted to log2 as to normalize the data"
   ]
  },
  {
   "cell_type": "code",
   "execution_count": null,
   "id": "3bea359b",
   "metadata": {},
   "outputs": [],
   "source": [
    "#Conversion of Yen to Million Yen\n",
    "df['TradePrice'] = np.log2(df['TradePrice'])"
   ]
  },
  {
   "cell_type": "code",
   "execution_count": null,
   "id": "cea85511",
   "metadata": {},
   "outputs": [],
   "source": [
    "df.shape"
   ]
  },
  {
   "cell_type": "code",
   "execution_count": null,
   "id": "81c7dc63",
   "metadata": {},
   "outputs": [],
   "source": [
    "#Evenly cut the range from the min of TradePrice to max of TradePrice to 50 separate bins\n",
    "def getPriceRange(numbins):\n",
    "    TPV = df['TradePrice'].value_counts(bins = numbins)\n",
    "    ax = TPV.plot.bar(figsize=(15,5))\n",
    "    ax.margins(y=0.01)\n",
    "    ax.set_xlabel('Log2 of Price', fontsize = 15)\n",
    "    ax.set_ylabel('Number of Houses', fontsize = 15)\n",
    "    ax.set_title(f'Price Range', fontsize=20)\n",
    "    plt.yticks(fontsize=12)\n",
    "    plt.show()\n",
    "    del ax, TPV"
   ]
  },
  {
   "cell_type": "code",
   "execution_count": null,
   "id": "384204f0",
   "metadata": {
    "scrolled": true
   },
   "outputs": [],
   "source": [
    "df.describe()"
   ]
  },
  {
   "cell_type": "markdown",
   "id": "776bf2bf",
   "metadata": {},
   "source": [
    "With the given data, it seems that the mean and standard deviation is way too differentiated with 155 million Yen as standard deviation whereas the mean is only around 33 million yen. Any values above the first range in getPriceRange would be removed."
   ]
  },
  {
   "cell_type": "markdown",
   "id": "4ffee36e",
   "metadata": {},
   "source": [
    "# Removing Outliers in the Dataset"
   ]
  },
  {
   "cell_type": "code",
   "execution_count": null,
   "id": "30e41f2d",
   "metadata": {
    "scrolled": true
   },
   "outputs": [],
   "source": [
    "getPriceRange(5)"
   ]
  },
  {
   "cell_type": "code",
   "execution_count": null,
   "id": "6dba4d3f",
   "metadata": {
    "scrolled": true
   },
   "outputs": [],
   "source": [
    "df.loc[df['TradePrice'] < 18.318]"
   ]
  },
  {
   "cell_type": "code",
   "execution_count": null,
   "id": "634c15d1",
   "metadata": {},
   "outputs": [],
   "source": [
    "df.shape"
   ]
  },
  {
   "cell_type": "markdown",
   "id": "b87a8b2c",
   "metadata": {},
   "source": [
    "From this, it appears that less than 0.5% is between 6.614 and 18.318 of the TradePrice, these data would then be omitted"
   ]
  },
  {
   "cell_type": "code",
   "execution_count": null,
   "id": "c0c48caf",
   "metadata": {},
   "outputs": [],
   "source": [
    "df = df.loc[df['TradePrice'] > 18.318]"
   ]
  },
  {
   "cell_type": "code",
   "execution_count": null,
   "id": "f012bc4c",
   "metadata": {
    "scrolled": false
   },
   "outputs": [],
   "source": [
    "getPriceRange(5)"
   ]
  },
  {
   "cell_type": "code",
   "execution_count": null,
   "id": "22e6313a",
   "metadata": {},
   "outputs": [],
   "source": [
    "df.loc[df['TradePrice'] > 28.83]"
   ]
  },
  {
   "cell_type": "markdown",
   "id": "0bfd1b81",
   "metadata": {},
   "source": [
    "From this, it appears that less than 0.5% is also above 28.83, these data would also be omitted"
   ]
  },
  {
   "cell_type": "code",
   "execution_count": null,
   "id": "f49d7176",
   "metadata": {},
   "outputs": [],
   "source": [
    "df = df.loc[df['TradePrice'] < 28.83]"
   ]
  },
  {
   "cell_type": "markdown",
   "id": "90310ea5",
   "metadata": {},
   "source": [
    "# Knowing relationship between Prefectures and TradePrice"
   ]
  },
  {
   "cell_type": "markdown",
   "id": "7eef458b",
   "metadata": {},
   "source": [
    "It appears that the dataset is right-skewed with the outliers removed. From this dataset, other columns would also be analyzed"
   ]
  },
  {
   "cell_type": "code",
   "execution_count": null,
   "id": "70e744d4",
   "metadata": {},
   "outputs": [],
   "source": [
    "prefectureTP = df.groupby('Prefecture', as_index = False)['TradePrice'].mean().sort_values('TradePrice', ascending=False)\n",
    "fig, ax = plt.subplots(figsize=(10,22))\n",
    "ax.barh(prefectureTP['Prefecture'], prefectureTP['TradePrice'])\n",
    "ax.invert_yaxis()\n",
    "ax.margins(y=0.01)\n",
    "ax.set_xlabel('Million Yen', fontsize = 15)\n",
    "ax.set_title('Average Prices per Prefecture', fontsize=20)\n",
    "plt.yticks(fontsize=12)\n",
    "plt.show()"
   ]
  },
  {
   "cell_type": "markdown",
   "id": "d5d3c8e0",
   "metadata": {},
   "source": [
    "From the horizontal bar graph given, it appears that one of the driving factors for the price of a property is the location of the property itself. For further analysis, the different municipalities per prefecture would be compared if it also affects the mean price of a location"
   ]
  },
  {
   "cell_type": "code",
   "execution_count": null,
   "id": "7b327035",
   "metadata": {},
   "outputs": [],
   "source": [
    "print(len(df['Municipality'].unique()))\n",
    "print(len(df.loc[df['Prefecture'] == 'Tokyo']['Municipality'].unique()))"
   ]
  },
  {
   "cell_type": "markdown",
   "id": "247b5f7f",
   "metadata": {},
   "source": [
    "As the total number of prefecture per Municipality is too high, a comparison between the average prices per Municipality would be compared know if location within a certain prefecture affects the price by a significant amount"
   ]
  },
  {
   "cell_type": "code",
   "execution_count": null,
   "id": "8f21fa90",
   "metadata": {},
   "outputs": [],
   "source": [
    "for i, row in prefectureTP.iterrows():\n",
    "    MuniTP = df.loc[df['Prefecture'] == row['Prefecture']].groupby('Municipality', \n",
    "                                                              as_index = False).mean().sort_values('TradePrice', ascending = False)\n",
    "    prefectureTP.loc[prefectureTP['Prefecture'] == row['Prefecture'], 'min'] = MuniTP.min()['TradePrice']\n",
    "    prefectureTP.loc[prefectureTP['Prefecture'] == row['Prefecture'], 'max'] = MuniTP.max()['TradePrice']"
   ]
  },
  {
   "cell_type": "code",
   "execution_count": null,
   "id": "923902b7",
   "metadata": {},
   "outputs": [],
   "source": [
    "prefectureTP"
   ]
  },
  {
   "cell_type": "markdown",
   "id": "2c5af729",
   "metadata": {},
   "source": [
    "With the table where the minimum and maximum is shown from the table, where the average prices of a prefecture can be widely different to the average prices of a municipality, the column *prefecture* would be dropped."
   ]
  },
  {
   "cell_type": "code",
   "execution_count": null,
   "id": "ec9d92cd",
   "metadata": {},
   "outputs": [],
   "source": [
    "df.drop(columns=['Prefecture', 'MunicipalityCode'], inplace= True)\n",
    "df.head()"
   ]
  },
  {
   "cell_type": "markdown",
   "id": "b6f3f14f",
   "metadata": {},
   "source": [
    "# Removal of Insufficient Data"
   ]
  },
  {
   "cell_type": "markdown",
   "id": "b99dba2f",
   "metadata": {},
   "source": [
    "To further process the data, municipalities with only count of less than 100 will be removed."
   ]
  },
  {
   "cell_type": "code",
   "execution_count": null,
   "id": "a1101a7f",
   "metadata": {},
   "outputs": [],
   "source": [
    "numMunicipality = df['Municipality'].value_counts(dropna=True, sort=True)\n",
    "plt.hist(numMunicipality.values, bins=30)\n",
    "plt.show()"
   ]
  },
  {
   "cell_type": "code",
   "execution_count": null,
   "id": "19e87f5c",
   "metadata": {},
   "outputs": [],
   "source": [
    "for mncplt in numMunicipality.keys():\n",
    "    if numMunicipality[mncplt] < 100:\n",
    "        df.drop(df[df['Municipality'] == mncplt].index, inplace=True)\n",
    "df.shape"
   ]
  },
  {
   "cell_type": "code",
   "execution_count": null,
   "id": "7b55aae3",
   "metadata": {},
   "outputs": [],
   "source": [
    "df['Type'].unique()"
   ]
  },
  {
   "cell_type": "markdown",
   "id": "aeeea6ec",
   "metadata": {},
   "source": [
    "# Checking relationship between TradePrice and Type"
   ]
  },
  {
   "cell_type": "markdown",
   "id": "ebc365b3",
   "metadata": {},
   "source": [
    "Moving to the *Type* column, there are three known categories. The average prices of each category would now be computed to see if there is a significant difference between the prices of these properties"
   ]
  },
  {
   "cell_type": "code",
   "execution_count": null,
   "id": "039085c3",
   "metadata": {},
   "outputs": [],
   "source": [
    "propertyType = df.groupby('Type', as_index = False).mean().sort_values('TradePrice', ascending = False)\n",
    "\n",
    "fig, ax = plt.subplots(figsize=(10,5))\n",
    "ax.barh(propertyType['Type'], propertyType['TradePrice'])\n",
    "ax.invert_yaxis()\n",
    "ax.margins(y=0.01)\n",
    "ax.set_xlabel('Million Yen', fontsize = 15)\n",
    "ax.set_title(f'Average Prices per Type', fontsize=20)\n",
    "plt.yticks(fontsize=12)\n",
    "plt.show()"
   ]
  },
  {
   "cell_type": "markdown",
   "id": "6993aa02",
   "metadata": {},
   "source": [
    "From the following, the type variable could prove useful in determining the price of a property, thus the *type* column would be hot-encoded as to make it easier for the model to use the data"
   ]
  },
  {
   "cell_type": "code",
   "execution_count": null,
   "id": "88969907",
   "metadata": {},
   "outputs": [],
   "source": [
    "TypeEncode = pd.get_dummies(df['Type'])\n",
    "df = df.join(TypeEncode)\n",
    "df.drop(columns=['Type', 'Forest Land', 'Agricultural Land'], inplace=True)\n",
    "del TypeEncode"
   ]
  },
  {
   "cell_type": "code",
   "execution_count": null,
   "id": "755229f7",
   "metadata": {},
   "outputs": [],
   "source": [
    "df.head(2)"
   ]
  },
  {
   "cell_type": "markdown",
   "id": "3fe7f5fe",
   "metadata": {},
   "source": [
    "# Removing subset column and unneeded column"
   ]
  },
  {
   "cell_type": "markdown",
   "id": "78943298",
   "metadata": {},
   "source": [
    "Moving onto the *DistrictName* column, as this column is only based from the Municipality itself, where-in the District is a location within a Municipality, further dividing each Municipality to districts would further diversify the data. This column would then be omitted\n",
    "\n",
    "Furthermore, the column *NearestStation* could also be removed as it only describes what the name of the Station that is nearest to the location, the columns *MinTimeToNearestStation* and *MaxTimeToNearestStation* could have more valuable data compared to the column *NearestStation*."
   ]
  },
  {
   "cell_type": "code",
   "execution_count": null,
   "id": "cc13f918",
   "metadata": {},
   "outputs": [],
   "source": [
    "df.drop(columns=['DistrictName', 'NearestStation'], inplace = True)"
   ]
  },
  {
   "cell_type": "code",
   "execution_count": null,
   "id": "77433445",
   "metadata": {},
   "outputs": [],
   "source": [
    "df.head(2)"
   ]
  },
  {
   "cell_type": "markdown",
   "id": "d99176ac",
   "metadata": {},
   "source": [
    "# Hot-encoding of CityPlanning and Mean-encoding of Municipality"
   ]
  },
  {
   "cell_type": "markdown",
   "id": "5a81a112",
   "metadata": {},
   "source": [
    "The number of unique values for the column *CityPlanning* is 16, the TradePrice mean of these unique values would be taken as to see if different CityPlanning categories can affect the price of a certain property."
   ]
  },
  {
   "cell_type": "code",
   "execution_count": null,
   "id": "0a251369",
   "metadata": {},
   "outputs": [],
   "source": [
    "len(df['CityPlanning'].unique())"
   ]
  },
  {
   "cell_type": "code",
   "execution_count": null,
   "id": "9e47eeae",
   "metadata": {},
   "outputs": [],
   "source": [
    "CityPlanningPrice = df.groupby('CityPlanning', as_index = False).mean().sort_values('TradePrice', ascending = False)\n",
    "\n",
    "fig, ax = plt.subplots(figsize=(10,8))\n",
    "ax.barh(CityPlanningPrice['CityPlanning'], CityPlanningPrice['TradePrice'])\n",
    "ax.invert_yaxis()\n",
    "ax.margins(y=0.01)\n",
    "ax.set_xlabel('Million Yen', fontsize = 15)\n",
    "ax.set_title(f'Average Prices per CityPlanning', fontsize=20)\n",
    "plt.yticks(fontsize=12)\n",
    "plt.show()"
   ]
  },
  {
   "cell_type": "code",
   "execution_count": null,
   "id": "329a41dc",
   "metadata": {},
   "outputs": [],
   "source": [
    "CityPlanningPrice[['CityPlanning','TradePrice']]"
   ]
  },
  {
   "cell_type": "code",
   "execution_count": null,
   "id": "deeec04d",
   "metadata": {},
   "outputs": [],
   "source": [
    "del CityPlanningPrice"
   ]
  },
  {
   "cell_type": "markdown",
   "id": "afdf02c8",
   "metadata": {},
   "source": [
    "From the following table, it can be seen that the average prices can vary depending on the type of CityPlanning. Besides the *Exclusively Industrial Zone*, most CityPlanning are close to each other in terms of average TradePrice. To reduce the number of CityPlanning categories, some categories would be combined together.\n",
    "\n",
    "From 16 different categories, it would be reduced down to 9 with the following grouped together.\n",
    "- Outside City Planning Area\n",
    "- Quasi-city Planning Area\n",
    "- Non-divided City Planning Area\n",
    "- Urbanization Control Area\n",
    "- Category II Exclusively Low-story Residential Zone, Category I Residential Zone\n",
    "- Category II Exclusively Medium-high Residential Zone, Category I Exclusively Medium-high Residential Zone\n",
    "- Industrial Zone, Commercial Zone, Category II Residential Zone, Quasi-residential Zone, Quasi-industrial Zone\n",
    "- Neighborhood Commercial Zone\n",
    "- Category I Exclusively Low-story Residential Zone\n",
    "- Exclusively Industrial Zone\n",
    "\n",
    "The grouping done to the CityPlanning categories was done with their TradePrice being within the same average value within a million."
   ]
  },
  {
   "cell_type": "code",
   "execution_count": null,
   "id": "96df443e",
   "metadata": {},
   "outputs": [],
   "source": [
    "#Grouping of categories\n",
    "df['CityPlanning'] = df['CityPlanning'].replace(['Category II Exclusively Low-story Residential Zone',\n",
    "                                                 'Category I Residential Zone'], 'Residential Zone I')\n",
    "\n",
    "df['CityPlanning'] = df['CityPlanning'].replace(['Category II Exclusively Medium-high Residential Zone',\n",
    "                                                 'Category I Exclusively Medium-high Residential Zone'], 'Residential Zone II')\n",
    "\n",
    "df['CityPlanning'] = df['CityPlanning'].replace(['Industrial Zone',\n",
    "                                                 'Commercial Zone',\n",
    "                                                 'Category II Residential Zone',\n",
    "                                                 'Quasi-residential Zone',\n",
    "                                                 'Quasi-industrial Zone'], 'Various Zones')\n"
   ]
  },
  {
   "cell_type": "code",
   "execution_count": null,
   "id": "47670545",
   "metadata": {},
   "outputs": [],
   "source": [
    "#Hot-encoding of CityPlanning Column\n",
    "CityPlanningEncode = pd.get_dummies(df['CityPlanning'])\n",
    "df = df.join(CityPlanningEncode)\n",
    "df.drop(columns=['CityPlanning'], inplace=True)\n",
    "del CityPlanningEncode"
   ]
  },
  {
   "cell_type": "code",
   "execution_count": null,
   "id": "0e2078a8",
   "metadata": {},
   "outputs": [],
   "source": [
    "df.columns"
   ]
  },
  {
   "cell_type": "code",
   "execution_count": null,
   "id": "24680156",
   "metadata": {},
   "outputs": [],
   "source": [
    "df.head(2)"
   ]
  },
  {
   "cell_type": "markdown",
   "id": "787acbc2",
   "metadata": {},
   "source": [
    "From this, it appears that the only column that is not numerical is the Municipality (Categorical), FrontageIsGreaterFlag (boolean), PrewarBuilding (boolean). For both of the boolean columns, these would be converted to a binary integer of 0s and 1s. While for the Municipality column, as the number of categories is far too great to hot-encode, mean encoding would be done to the different municipalities.\n",
    "\n",
    "Additionally, as the MinTime and MaxTime ToNearestStation column was initially set into 'string' as there were null values, these columns would also be transformed into an integer as to fit into the model"
   ]
  },
  {
   "cell_type": "code",
   "execution_count": null,
   "id": "da1e54d7",
   "metadata": {},
   "outputs": [],
   "source": [
    "MuniMean = df.groupby(['Municipality'])['TradePrice'].mean().to_dict()\n",
    "df['Municipality'] = df['Municipality'].map(MuniMean)\n",
    "df['FrontageIsGreaterFlag'] = df['FrontageIsGreaterFlag'].astype(int)\n",
    "df['PrewarBuilding'] = df['PrewarBuilding'].astype(int)\n",
    "df['MinTimeToNearestStation'] = df['MinTimeToNearestStation'].astype(int)\n",
    "df['MaxTimeToNearestStation'] = df['MaxTimeToNearestStation'].astype(int)\n",
    "del MuniMean"
   ]
  },
  {
   "cell_type": "code",
   "execution_count": null,
   "id": "e914630c",
   "metadata": {},
   "outputs": [],
   "source": [
    "df.head(2)"
   ]
  },
  {
   "cell_type": "markdown",
   "id": "8c2895e8",
   "metadata": {},
   "source": [
    "# Model Creation and Testing"
   ]
  },
  {
   "cell_type": "markdown",
   "id": "69f75012",
   "metadata": {},
   "source": [
    "Now that all of the columns are numerical, the data would now be split into two a training set and a test set. Additionally, the TradePrice column would be removed from the table and be put onto another table.\n",
    "\n",
    "The model used would be a XGBoost"
   ]
  },
  {
   "cell_type": "code",
   "execution_count": null,
   "id": "e59e5cb8",
   "metadata": {},
   "outputs": [],
   "source": [
    "x = df.copy()\n",
    "y = x['TradePrice']\n",
    "x.drop(columns=['TradePrice', 'MaxTimeToNearestStation', 'Quarter'], inplace=True)\n",
    "\n",
    "x_train, x_test, y_train, y_test = train_test_split(x, y, test_size = 0.1, random_state = 30, stratify=x['Municipality'])\n",
    "x_train = np.asarray(x_train).tolist()\n",
    "y_train = np.asarray(y_train).tolist()\n",
    "x_test = np.asarray(x_test).tolist()\n",
    "y_test = np.asarray(y_test).tolist()"
   ]
  },
  {
   "cell_type": "code",
   "execution_count": null,
   "id": "ae431713",
   "metadata": {
    "scrolled": true
   },
   "outputs": [],
   "source": [
    "x.columns"
   ]
  },
  {
   "cell_type": "code",
   "execution_count": null,
   "id": "0dc590a5",
   "metadata": {},
   "outputs": [],
   "source": [
    "linear_reg = linear_model.LinearRegression()"
   ]
  },
  {
   "cell_type": "code",
   "execution_count": null,
   "id": "c023a11b",
   "metadata": {},
   "outputs": [],
   "source": [
    "linear_reg.fit(x_train,y_train)"
   ]
  },
  {
   "cell_type": "code",
   "execution_count": null,
   "id": "e2a792de",
   "metadata": {},
   "outputs": [],
   "source": [
    "linear_preds = linear_reg.predict(x_test)\n",
    "print(mean_absolute_error(y_test, linear_preds)*100)"
   ]
  },
  {
   "cell_type": "code",
   "execution_count": null,
   "id": "d587571e",
   "metadata": {
    "scrolled": true
   },
   "outputs": [],
   "source": [
    "linear_reg.coef_"
   ]
  },
  {
   "cell_type": "markdown",
   "id": "05e50189",
   "metadata": {},
   "source": [
    "Conversion of Actual and Predicted Values back to its original values"
   ]
  },
  {
   "cell_type": "code",
   "execution_count": null,
   "id": "451c6253",
   "metadata": {},
   "outputs": [],
   "source": [
    "y_testActual = np.exp2(y_test)\n",
    "linear_predsActual = np.exp2(linear_preds)"
   ]
  },
  {
   "cell_type": "code",
   "execution_count": null,
   "id": "68a07e5b",
   "metadata": {},
   "outputs": [],
   "source": [
    "fig, ax = plt.subplots(figsize=(20,10))\n",
    "ax.plot(y_testActual, label=\"Actual\")\n",
    "ax.plot(linear_predsActual, label=\"Predicted\")\n",
    "ax.legend()\n",
    "plt.show()"
   ]
  },
  {
   "cell_type": "code",
   "execution_count": null,
   "id": "e92cde78",
   "metadata": {},
   "outputs": [],
   "source": [
    "df"
   ]
  },
  {
   "cell_type": "code",
   "execution_count": null,
   "id": "68b9d4f0",
   "metadata": {},
   "outputs": [],
   "source": [
    "mlp_reg = MLPRegressor(hidden_layer_sizes=(300,), activation='relu', solver='adam', max_iter = 500)\n",
    "mlp_reg.fit(x_train,y_train)"
   ]
  },
  {
   "cell_type": "code",
   "execution_count": null,
   "id": "c79210ef",
   "metadata": {},
   "outputs": [],
   "source": [
    "mlp_preds = mlp_reg.predict(x_test)\n",
    "print(mean_absolute_error(y_test, mlp_reg)*100)"
   ]
  },
  {
   "cell_type": "code",
   "execution_count": null,
   "id": "a5ecea39",
   "metadata": {},
   "outputs": [],
   "source": [
    "mlp_reg.coef_"
   ]
  },
  {
   "cell_type": "code",
   "execution_count": null,
   "id": "3e876735",
   "metadata": {},
   "outputs": [],
   "source": [
    "mlp_regActual = np.exp2(mlp_preds)"
   ]
  },
  {
   "cell_type": "code",
   "execution_count": null,
   "id": "16fa99ec",
   "metadata": {},
   "outputs": [],
   "source": [
    "fig, ax = plt.subplots(figsize=(20,10))\n",
    "ax.plot(y_testActual, label=\"Actual\")\n",
    "ax.plot(mlp_regActual, label=\"Predicted\")\n",
    "ax.legend()\n",
    "plt.show()"
   ]
  },
  {
   "cell_type": "code",
   "execution_count": null,
   "id": "a97adba3",
   "metadata": {},
   "outputs": [],
   "source": [
    "xgb_reg = xgb.XGBRegressor(objective ='reg:squarederror', colsample_bytree = 0.5, learning_rate = 0.05,\n",
    "                max_depth = 6, alpha = 10, n_estimators = 1000, subsample=0.7)"
   ]
  },
  {
   "cell_type": "code",
   "execution_count": null,
   "id": "9785583d",
   "metadata": {},
   "outputs": [],
   "source": [
    "xgb_reg.fit(x_train, y_train)"
   ]
  },
  {
   "cell_type": "code",
   "execution_count": null,
   "id": "0de92779",
   "metadata": {},
   "outputs": [],
   "source": [
    "xgb_preds = xgb_reg.predict(x_test)"
   ]
  },
  {
   "cell_type": "code",
   "execution_count": null,
   "id": "01836cf2",
   "metadata": {},
   "outputs": [],
   "source": [
    "print(mean_absolute_error(y_test, xgb_preds)*100)"
   ]
  },
  {
   "cell_type": "code",
   "execution_count": null,
   "id": "25051954",
   "metadata": {},
   "outputs": [],
   "source": [
    "xgb_predsActual = np.exp2(xgb_preds)"
   ]
  },
  {
   "cell_type": "code",
   "execution_count": null,
   "id": "341d6402",
   "metadata": {},
   "outputs": [],
   "source": [
    "fig, ax = plt.subplots(figsize=(20,10))\n",
    "ax.plot(y_testActual, label=\"Actual\")\n",
    "ax.plot(xgb_predsActual, label=\"Predicted\")\n",
    "ax.legend()\n",
    "plt.show()"
   ]
  },
  {
   "cell_type": "code",
   "execution_count": null,
   "id": "215c8010",
   "metadata": {},
   "outputs": [],
   "source": []
  }
 ],
 "metadata": {
  "kernelspec": {
   "display_name": "Python 3 (ipykernel)",
   "language": "python",
   "name": "python3"
  },
  "language_info": {
   "codemirror_mode": {
    "name": "ipython",
    "version": 3
   },
   "file_extension": ".py",
   "mimetype": "text/x-python",
   "name": "python",
   "nbconvert_exporter": "python",
   "pygments_lexer": "ipython3",
   "version": "3.9.7"
  }
 },
 "nbformat": 4,
 "nbformat_minor": 5
}
